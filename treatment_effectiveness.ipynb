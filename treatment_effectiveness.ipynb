{
 "cells": [
  {
   "cell_type": "markdown",
   "metadata": {},
   "source": [
    "## Finding Effective Treatments\n",
    "\n",
    "Many of the analysis that we want to perform hinge on being able to determine which treatments or tags are having an effect on how a user feels.\n",
    "In this document we will go over a few different ways to measure this.\n",
    "\n",
    "There are two major challenges that we need to deal with.  First is that the effects that we are trying to measure may have unmeasured delays or cycles.  For example, a person who begins taking Synthroid for a thyroid condition is not expected to see improvement for several weeks.\n",
    "The second major challenge is that this data is inherently noisey.  The noise is expected from user reported data.  Nobody uses the app every single day, and may not give perfectly accurate representations of their symptoms.  \n",
    "\n",
    "We should also be aware that we may be dealing with some biases.  For example people who are drawn to use the app are likely suffering more than the average person, are more likely in a younger age group, and have likely already had some trouble with diagnosis. "
   ]
  },
  {
   "cell_type": "markdown",
   "metadata": {},
   "source": [
    "## Correlation\n",
    "\n",
    "The first thing we will try in finding effective treatments will be simply a correlation between treatments/tags and the severity of conditions/symptoms.\n",
    "\n",
    "We will take a look at the top 10 Conditions, and see if each user has a correlation between being on a treatment or tag on a specific day, and their Condition rating for that day."
   ]
  },
  {
   "cell_type": "code",
   "execution_count": null,
   "metadata": {
    "collapsed": true
   },
   "outputs": [],
   "source": [
    "import numpy as np\n",
    "import pandas as pd\n",
    "from scipy.stats.stats import pearsonr\n",
    "import warnings\n",
    "warnings.filterwarnings('ignore')\n",
    "\n",
    "#When you can get this down to 0.05 and still get some results, then we're getting somewhere\n",
    "P_THRESHOLD = 0.1\n",
    "\n",
    "df = pd.read_csv(\"flaredown_trackable_data_080316.csv\")\n",
    "df['checkin_date'] = pd.to_datetime(df['checkin_date'])\n",
    "\n",
    "just_depressed_users = df.groupby(['user_id', 'checkin_date']).filter(lambda x: 'Depression' in x['trackable_name'].values)\n",
    "def add_depression_score(x):\n",
    "    return x[x['trackable_name'] == 'Depression']['trackable_value'].values[0]\n",
    "depression_days = just_depressed_users.groupby(['user_id', 'checkin_date'])\n",
    "\n",
    "#create a table of depression scores by user/day\n",
    "depression_scores = depression_days.apply(add_depression_score)\n",
    "depression_scores = depression_scores.reset_index()\n",
    "depression_scores.columns = [\"user_id\", \"checkin_date\", \"depression_score\"]\n",
    "\n",
    "just_depressed_users = just_depressed_users[just_depressed_users['trackable_type'] == 'Treatment'].append(just_depressed_users[just_depressed_users['trackable_type'] == 'Tag'])\n",
    "just_depressed_users = pd.get_dummies(just_depressed_users, columns=['trackable_name'])\n",
    "\n",
    "just_depressed_users = just_depressed_users.merge(depression_scores, on=['user_id','checkin_date'])\n",
    "just_depressed_users['depression_score'] = pd.to_numeric(just_depressed_users['depression_score'])\n",
    "\n",
    "print \"writing file\"\n",
    "userlist = set(just_depressed_users['user_id'])\n",
    "for userid in userlist:\n",
    "    user = just_depressed_users[just_depressed_users['user_id'] == userid]\n",
    "    first = True\n",
    "    for column in user.columns[5:len(user.columns)-1]:\n",
    "        corr,p =  pearsonr(user['depression_score'], user[column])\n",
    "        if (p < P_THRESHOLD):\n",
    "            print \"found correlation\""
   ]
  },
  {
   "cell_type": "markdown",
   "metadata": {},
   "source": [
    "What makes this difficult is that we are trying to determine if a treatment/tag is working for an individual, not the whole group.  Which means that our sample size for each user depends on how many days they have logged in the app.  This causes fairly low sample sizes, and inacceptably high p values, especially for this shotgun approach.  We also need to consider, does the treatment make the user feel better the same day?  What if a treatment takes a week to kick in?  Or what if the treatment, such as Humira for Crohn's, functions on a two week cycle?\n",
    "\n",
    "As can be seen above, the vast majority of users are not getting any correlations with an acceptable p value, so this strict method of determining if a treatment/tag is working can only be considered inconclusive.\n",
    "\n",
    "This way of thinking may prove fruitful when the app has been around for longer, but at this time the number of logged days per user is too low.\n",
    "\n",
    "\n",
    "## Comparison of Before and After Treatment\n",
    "\n",
    "In order to simplify this metric, lets take a look at the day that a treatment started.  If a user suffers from a condition, and then starts logging a new treatment or tag, does the condition get better after that point?  \n",
    "\n",
    "We will need to identify the date that a treatment or tag started, and then calculate the mean condition score before that date and the mean condition score after that date.  Hopefully the score after the date will be improved (lower).\n",
    "\n",
    "Using this metric helps us get around a few quirks of the data.  Since we are taking the mean, we can ignore any cyclical nature of the condition.  Also it accounts for users who have started taking a treatment but are not consistantly logging it."
   ]
  },
  {
   "cell_type": "code",
   "execution_count": null,
   "metadata": {
    "collapsed": true
   },
   "outputs": [],
   "source": []
  }
 ],
 "metadata": {
  "kernelspec": {
   "display_name": "Python 2",
   "language": "python",
   "name": "python2"
  },
  "language_info": {
   "codemirror_mode": {
    "name": "ipython",
    "version": 2
   },
   "file_extension": ".py",
   "mimetype": "text/x-python",
   "name": "python",
   "nbconvert_exporter": "python",
   "pygments_lexer": "ipython2",
   "version": "2.7.10"
  }
 },
 "nbformat": 4,
 "nbformat_minor": 0
}
