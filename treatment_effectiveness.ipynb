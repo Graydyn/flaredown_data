{
 "cells": [
  {
   "cell_type": "markdown",
   "metadata": {},
   "source": [
    "## Finding Effective Treatments\n",
    "\n",
    "\n",
    "Many of the analysis that we want to perform hinge on being able to determine which treatments or tags are having an effect on how a user feels.\n",
    "In this document we will go over a few different ways to measure this.\n",
    "\n",
    "There are two major challenges that we need to deal with.  First is that the effects that we are trying to measure may have unmeasured delays or cycles.  For example, a person who begins taking Synthroid for a thyroid condition is not expected to see improvement for several weeks.\n",
    "The second major challenge is that this data is inherently noisey.  The noise is expected from user reported data.  Nobody uses the app every single day, and may not give perfectly accurate representations of their symptoms.  \n",
    "\n",
    "We should also be aware that we may be dealing with some biases.  For example people who are drawn to use the app are likely suffering more than the average person, are more likely in a younger age group, and have likely already had some trouble with diagnosis.\n",
    "\n",
    "I would like to make it clear that this document will not be attempting to measure the effectiveness of a treatment within a population, but rather for specific users.  To measure the effectiveness in a population, we would be creating a Patient Reported Outcome measure(more can be read about PRO standards [here.](http://www.ncbi.nlm.nih.gov/books/NBK126186/))  It is important to realize that Flaredown was developed as a tool for helping it's patients identify patterns in the flare-ups of auto-immune diseases and not specifically designed for the task of PRO gathering.  While create a new PRO measure using the Flaredown data is an interesting project, this is outside of the scope of this document.\n",
    "\n",
    "NOTE ABOUT VERSIONS : this notebook now includes profile information in it's output.  For this reason you will need to use the datafile dated 083016 or later"
   ]
  },
  {
   "cell_type": "markdown",
   "metadata": {},
   "source": [
    "## Correlation\n",
    "\n",
    "The first thing we will try in finding effective treatments will be simply a correlation between treatments/tags and the severity of conditions/symptoms.\n",
    "\n",
    "We will take a look at our most well represented condition, Depression, and see if it has a correlation between being on a treatment or tag on a specific day, and their depression rating for that day."
   ]
  },
  {
   "cell_type": "code",
   "execution_count": 1,
   "metadata": {
    "collapsed": true
   },
   "outputs": [],
   "source": [
    "import numpy as np\n",
    "import pandas as pd\n",
    "from scipy.stats.stats import pearsonr\n",
    "import warnings\n",
    "warnings.filterwarnings('ignore')\n",
    "\n",
    "df = pd.read_csv(\"flaredown_trackable_data_083016.csv\")\n",
    "df['checkin_date'] = pd.to_datetime(df['checkin_date'])"
   ]
  },
  {
   "cell_type": "code",
   "execution_count": 2,
   "metadata": {
    "collapsed": false
   },
   "outputs": [
    {
     "name": "stdout",
     "output_type": "stream",
     "text": [
      "found correlation between trackable_name_tooth infection and depression of 0.488312241178 at p value 0.0113742772503\n",
      "found correlation between trackable_name_Netflix day and depression of 0.430006581784 at p value 0.00885606973451\n",
      "found correlation between trackable_name_tired and depression of 1.0 at p value 0.0\n",
      "found correlation between trackable_name_Adderall and depression of -1.0 at p value 0.0\n",
      "found correlation between trackable_name_tired and depression of 1.0 at p value 0.0\n",
      "found correlation between trackable_name_tooth infection and depression of 0.488312241178 at p value 0.0113742772503\n"
     ]
    }
   ],
   "source": [
    "P_THRESHOLD = 0.05\n",
    "\n",
    "just_depressed_users = df.groupby(['user_id', 'checkin_date']).filter(lambda x: 'Depression' in x['trackable_name'].values)\n",
    "\n",
    "#create a table of depression scores by user/day\n",
    "def add_depression_score(x):\n",
    "    return x[x['trackable_name'] == 'Depression']['trackable_value'].values[0]\n",
    "depression_days = just_depressed_users.groupby(['user_id', 'checkin_date'])\n",
    "\n",
    "depression_scores = depression_days.apply(add_depression_score)\n",
    "depression_scores = depression_scores.reset_index()\n",
    "depression_scores.columns = [\"user_id\", \"checkin_date\", \"depression_score\"]\n",
    "\n",
    "just_depressed_users = just_depressed_users[just_depressed_users['trackable_type'] == 'Treatment'].append(just_depressed_users[just_depressed_users['trackable_type'] == 'Tag'])\n",
    "just_depressed_users = pd.get_dummies(just_depressed_users, columns=['trackable_name'])\n",
    "\n",
    "just_depressed_users = just_depressed_users.merge(depression_scores, on=['user_id','checkin_date'])\n",
    "just_depressed_users['depression_score'] = pd.to_numeric(just_depressed_users['depression_score'])\n",
    "\n",
    "#check the correlation between a treatment being used and the depression score for each user\n",
    "userlist = set(just_depressed_users['user_id'][0:200]) #just printing out first 200 users so it's not too long to read\n",
    "for userid in userlist:  \n",
    "    user = just_depressed_users[just_depressed_users['user_id'] == userid]\n",
    "    first = True\n",
    "    for column in user.columns[8:len(user.columns)-1]:\n",
    "        corr,p =  pearsonr(user['depression_score'], user[column])\n",
    "        if (p < P_THRESHOLD):\n",
    "            print \"found correlation between \" + column + \" and depression of \" + str(corr) + \" at p value \" + str(p)"
   ]
  },
  {
   "cell_type": "markdown",
   "metadata": {},
   "source": [
    "What makes this difficult is that we are trying to determine if a treatment/tag is working for an individual, not the whole group.  Which means that our sample size for each user depends on how many days they have logged in the app.  This causes fairly low sample sizes, and inacceptably high p values, especially for this shotgun approach.  We also need to consider, does the treatment make the user feel better the same day, what if the treatment always makes the user feel better the next day?  What if a treatment takes a week to kick in?  Or what if the treatment, such as Humira for Crohn's, functions on a two week cycle?\n",
    "\n",
    "As can be seen above, the vast majority of users are not getting any correlations with an acceptable p value, so this strict method of determining if a treatment/tag is working can only be considered inconclusive.\n",
    "\n",
    "This way of thinking may prove fruitful when the app has been around for longer, but at this time the number of logged days per user is too low.\n",
    "\n",
    "\n",
    "## Comparison of Before and After Treatment\n",
    "\n",
    "In order to simplify this metric, lets take a look at the day that a treatment started.  If a user suffers from a condition, and then starts logging a new treatment or tag, does the condition get better after that point?  \n",
    "\n",
    "We will need to identify the date that a treatment or tag started, and then calculate the mean condition score before that date and the mean condition score after that date.  Hopefully the score after the date will be improved (lower).\n",
    "\n",
    "Using this metric helps us get around a few quirks of the data.  Since we are taking the mean, we can ignore any cyclical nature of the condition.  Also it accounts for users who have started taking a treatment but are not consistantly logging it (which our exploration shows is very common)."
   ]
  },
  {
   "cell_type": "code",
   "execution_count": 3,
   "metadata": {
    "collapsed": false
   },
   "outputs": [
    {
     "name": "stdout",
     "output_type": "stream",
     "text": [
      "   user_id   age     sex country         condition     treatment  \\\n",
      "0     20.0  49.0    male      US           Fatigue      Provigil   \n",
      "1     20.0  49.0    male      US  major somnolence      Provigil   \n",
      "2     20.0  49.0    male      US        sleepiness      Provigil   \n",
      "3     52.0  44.0  female      US           Allergy  Escitalopram   \n",
      "4     52.0  44.0  female      US           Allergy     Magnesium   \n",
      "5     52.0  44.0  female      US           Anxiety  Escitalopram   \n",
      "6     52.0  44.0  female      US           Anxiety     Magnesium   \n",
      "7     52.0  44.0  female      US      Constipation  Escitalopram   \n",
      "8     52.0  44.0  female      US      Constipation     Magnesium   \n",
      "9     52.0  44.0  female      US        Depression  Escitalopram   \n",
      "\n",
      "   before_value  after_value  effectiveness  \n",
      "0      1.750000     1.444444       0.305556  \n",
      "1      2.000000     1.333333       0.666667  \n",
      "2      1.750000     1.777778      -0.027778  \n",
      "3      1.083333     0.500000       0.583333  \n",
      "4      0.800000     0.333333       0.466667  \n",
      "5      2.066667     0.500000       1.566667  \n",
      "6      1.782609     0.666667       1.115942  \n",
      "7      0.666667     0.291667       0.375000  \n",
      "8      0.550000     0.000000       0.550000  \n",
      "9      0.600000     0.291667       0.308333  \n",
      "users that started taking a treatment after logging conditions 24352\n",
      "users that report lower condition ratings while on a treatment 11107\n"
     ]
    }
   ],
   "source": [
    "#create a dataframe of treatments with their start date\n",
    "treatments = df[df['trackable_type'] == \"Treatment\"]\n",
    "treatment_start_dates = treatments.groupby(['user_id', 'trackable_name'])['checkin_date'].min().reset_index()\n",
    "treatment_end_dates = treatments.groupby(['user_id', 'trackable_name'])['checkin_date'].max().reset_index()\n",
    "treatment_dates = treatment_start_dates.merge(treatment_end_dates, on=['user_id','trackable_name'])\n",
    "\n",
    "#create a dataframe of the conditions and symptoms by user with their start and end dates\n",
    "conditions = df[(df['trackable_type'] == \"Condition\") | (df['trackable_type'] == \"Symptom\")]\n",
    "conditions_start_end = conditions.groupby(['user_id', 'trackable_name'])['checkin_date'].min().reset_index()\n",
    "conditions_start_end = conditions_start_end.merge(conditions.groupby(['user_id', 'trackable_name'])['checkin_date'].max().reset_index(), on=['user_id','trackable_name'])\n",
    "\n",
    "#remove symptoms/conditions that haven't been recorded for at least a couple weeks (a couple weeks is arbitrary, feel free to adjust this value in the future)\n",
    "conditions_start_end = conditions_start_end[(conditions_start_end['checkin_date_y'] - conditions_start_end['checkin_date_x']).astype('timedelta64[D]') > 14]\n",
    "\n",
    "#merge the two dfs together\n",
    "dates_df = conditions_start_end.merge(treatment_dates, on='user_id')\n",
    "\n",
    "#changing column names because they are confusing post merge\n",
    "dates_df.columns = ['user_id','symptom_name','symptom_start','symptom_end', 'treatment_name','treatment_start', 'treatment_end']\n",
    "\n",
    "#remove symptoms/conditions that started logging around the same time as the treatment started logging\n",
    "dates_df = dates_df[(dates_df['treatment_start'] - dates_df['symptom_start']).astype('timedelta64[D]') > 7 ]\n",
    "#remove symptoms/conditions that stopped logging before the treatment started logging\n",
    "dates_df = dates_df[(dates_df['symptom_end'] - dates_df['treatment_start']).astype('timedelta64[D]') > 7 ]\n",
    "\n",
    "#iterate through and find the trackable_values before and after the treatment date\n",
    "def findBeforeAndAfterTreatment(dates_df_local, orig_df):\n",
    "    new_df = pd.DataFrame(columns=['user_id', 'age', 'sex', 'country', 'condition','treatment','before_value','after_value','effectiveness'])\n",
    "    for row in dates_df_local.iterrows():\n",
    "        row = row[1]\n",
    "        df_user_symptom = orig_df[(orig_df['user_id'] == row['user_id']) & (orig_df['trackable_name'] == row['symptom_name'])]\n",
    "        values_before = df_user_symptom[(df_user_symptom['checkin_date'] < row['treatment_start'])]['trackable_value'].values\n",
    "        values_after = df_user_symptom[(df_user_symptom['checkin_date'] >= row['treatment_start']) & (df_user_symptom['checkin_date'] <= row['treatment_end'])]['trackable_value'].values\n",
    "        values_before = [x for x in values_before if str(x) != 'nan']\n",
    "        values_after = [x for x in values_after if str(x) != 'nan']\n",
    "        values_before = map(int,values_before)\n",
    "        values_after = map(int,values_after)\n",
    "        mean_before = np.mean(values_before)\n",
    "        mean_after = np.mean(values_after)\n",
    "        new_df = new_df.append({'user_id' : row['user_id'], 'age' : orig_df[orig_df['user_id'] == row['user_id']]['age'].values[0], 'sex' : orig_df[orig_df['user_id'] == row['user_id']]['sex'].values[0], 'country' : orig_df[orig_df['user_id'] == row['user_id']]['country'].values[0], 'condition' : row['symptom_name'], 'treatment' : row['treatment_name'], 'before_value' : mean_before, 'after_value' : mean_after, 'effectiveness' : mean_before - mean_after}, ignore_index=True)\n",
    "    return new_df\n",
    "\n",
    "treatments_only = findBeforeAndAfterTreatment(dates_df, df)\n",
    "print treatments_only.head(10)\n",
    "print \"users that started taking a treatment after logging conditions \" + str(len(treatments_only))\n",
    "print \"users that report lower condition ratings while on a treatment \" + str(len(treatments_only[treatments_only['effectiveness'] > 0]))"
   ]
  },
  {
   "cell_type": "markdown",
   "metadata": {},
   "source": [
    "Now that's more like it!  We have found quite a large number of users that are rating their symptoms as less severe while on a treatment. \n",
    "\n",
    "## Working in the Tags\n",
    "\n",
    "Tags may hold the highest value for the recommender system.  For treatment recommendations, users would be best served by talking to their doctor.  But for tags such as \"stressed\" or \"good sleep\", it can be very difficult to tell what is going to work for different people.\n",
    "\n",
    "The above code works on an assumption that a person has been using a Treatment during the interval between the first time they logged it and the last time they logged it.  The same can not reasonably be said about tags.  If a person tags \"good sleep\", we can not assume that they continue to sleep well for any duration.  For this reason we will need to use a different system to try and determine what is working for each user.  Instead we will use the difference between their average symptom rating, and the average between the symptom rating for the day of the tag, as well as the next day.  This will capture at least some delayed effect from the tag."
   ]
  },
  {
   "cell_type": "code",
   "execution_count": 6,
   "metadata": {
    "collapsed": false
   },
   "outputs": [
    {
     "name": "stdout",
     "output_type": "stream",
     "text": [
      "   user_id  age     sex country                     condition  \\\n",
      "0        7   28  female      US  Generalized anxiety disorder   \n",
      "1        7   28  female      US                 Gastroparesis   \n",
      "2        7   28  female      US  Generalized anxiety disorder   \n",
      "3        7   28  female      US                 Gastroparesis   \n",
      "4        7   28  female      US  Generalized anxiety disorder   \n",
      "5        7   28  female      US                 Gastroparesis   \n",
      "6        7   28  female      US  Generalized anxiety disorder   \n",
      "7        7   28  female      US                 Gastroparesis   \n",
      "8        7   28  female      US  Generalized anxiety disorder   \n",
      "9        7   28  female      US                 Gastroparesis   \n",
      "\n",
      "               treatment  before_value  after_value  effectiveness  \n",
      "0  Confronted a coworker      0.000000     1.333333      -1.333333  \n",
      "1  Confronted a coworker      0.000000     1.500000      -1.500000  \n",
      "2  Wrong about something      0.000000     1.333333      -1.333333  \n",
      "3  Wrong about something      0.000000     1.500000      -1.500000  \n",
      "4     doctor appointment      0.000000     1.333333      -1.333333  \n",
      "5     doctor appointment      0.000000     1.500000      -1.500000  \n",
      "6                  feels      0.333333     3.000000      -2.666667  \n",
      "7                  feels      0.666667     2.000000      -1.333333  \n",
      "8                had sex      0.000000     1.333333      -1.333333  \n",
      "9                had sex      0.000000     1.500000      -1.500000  \n"
     ]
    }
   ],
   "source": [
    "import datetime, time\n",
    "tags = df[df['trackable_type'] == \"Tag\"]\n",
    "conditions = df[(df['trackable_type'] == \"Condition\") | (df['trackable_type'] == \"Symptom\")]\n",
    "    \n",
    "tag_dates = tags.groupby(['user_id', 'trackable_name'])['checkin_date'].apply(lambda x: x.tolist()).reset_index()\n",
    "\n",
    "#iterating through and building a new df again, you weren't in a hurry right?\n",
    "tag_df = pd.DataFrame(columns=['user_id', 'age', 'sex', 'country', 'condition','treatment','before_value','after_value','effectiveness'])\n",
    "for row in tag_dates.iterrows():\n",
    "    values = row[1]\n",
    "    user_condition_rows = df[(df['user_id'] == values['user_id']) & (df['trackable_type'] == 'Condition')]\n",
    "    conditions = set(user_condition_rows['trackable_name'])\n",
    "    for condition in conditions:\n",
    "        condition_values_unaligned = []\n",
    "        condition_values_aligned = []\n",
    "        condition_values = user_condition_rows[user_condition_rows['trackable_name'] == condition]['trackable_value'].values\n",
    "        condition_dates = user_condition_rows[user_condition_rows['trackable_name'] == condition]['checkin_date'].values\n",
    "        for i in range(len(condition_values)-1):\n",
    "            matched = False\n",
    "            for tag_date in values['checkin_date']:\n",
    "                #ended up with dates in different formats, just converting them both to days for comparison\n",
    "                condition_day = float(condition_dates[i]) / 86400000000000\n",
    "                tag_day = time.mktime(tag_date.timetuple()) / 86400\n",
    "                if condition_day - tag_day < 2:\n",
    "                    matched = True\n",
    "            if matched:\n",
    "                condition_values_aligned.append(int(condition_values[i]))\n",
    "            else:\n",
    "                condition_values_unaligned.append(int(condition_values[i]))\n",
    "        if (len(condition_values_aligned) > 0 and len(condition_values_unaligned) > 0): #don't record if we haven't seen at least one of each\n",
    "            #sometimes treatments are recorded as both treatments and tags for the same user, need to find those cases or we end up with duplicate entries\n",
    "            user_treatments = df[(df['user_id'] == values['user_id']) & (df['trackable_type'] == 'Treatment')]\n",
    "            if not (values['trackable_name'] in user_treatments.values):\n",
    "                before_value = np.mean(condition_values_unaligned)\n",
    "                after_value = np.mean(condition_values_aligned)\n",
    "                effectiveness = before_value - after_value\n",
    "                tag_df = tag_df.append({'user_id' : values['user_id'], 'age' : df[df['user_id'] == values['user_id']]['age'].values[0], 'sex' : df[df['user_id'] == values['user_id']]['sex'].values[0], 'country' : df[df['user_id'] == values['user_id']]['country'].values[0], 'condition' : condition, 'treatment' : values['trackable_name'], 'before_value' : before_value, 'after_value' : after_value, 'effectiveness' : effectiveness}, ignore_index=True)\n",
    "print tag_df.head(10)"
   ]
  },
  {
   "cell_type": "markdown",
   "metadata": {},
   "source": [
    "### Removing non-actionable tags\n",
    "\n",
    "Before we attempt to use this data in our recommender system, we should take note that some of that tags are not going to be useful for this task.  The first draft of the recommender had a significant problem that it often recommended tags that the user has no control over.  So for example it would recommend that to treat depression, you should try not having your period.  This is not useful information for the user.\n",
    "\n",
    "To solve this problem I've hand labelled each possible tag with whether it is actionable or not.  We can remove the tags which are not.  The hand labelling processes started out with assuming that all tags are not useful, and then I searched the list for tags which seemed to make sense in the context \"Do this/Don't do this to treat a condition\".  This processes is somewhat fallible, but in the worst case I'll be throwing away some useful tags."
   ]
  },
  {
   "cell_type": "code",
   "execution_count": 6,
   "metadata": {
    "collapsed": false
   },
   "outputs": [
    {
     "ename": "ValueError",
     "evalue": "Wrong number of items passed 4803, placement implies 1",
     "output_type": "error",
     "traceback": [
      "\u001b[1;31m---------------------------------------------------------------------------\u001b[0m",
      "\u001b[1;31mValueError\u001b[0m                                Traceback (most recent call last)",
      "\u001b[1;32m<ipython-input-6-6b5bd50fbaab>\u001b[0m in \u001b[0;36m<module>\u001b[1;34m()\u001b[0m\n\u001b[0;32m      3\u001b[0m \u001b[0mtags\u001b[0m \u001b[1;33m=\u001b[0m \u001b[0mdf\u001b[0m\u001b[1;33m[\u001b[0m\u001b[0mdf\u001b[0m\u001b[1;33m[\u001b[0m\u001b[1;34m'trackable_type'\u001b[0m\u001b[1;33m]\u001b[0m \u001b[1;33m==\u001b[0m \u001b[1;34m\"Tag\"\u001b[0m\u001b[1;33m]\u001b[0m\u001b[1;33m\u001b[0m\u001b[0m\n\u001b[0;32m      4\u001b[0m \u001b[1;33m\u001b[0m\u001b[0m\n\u001b[1;32m----> 5\u001b[1;33m \u001b[0mtags\u001b[0m\u001b[1;33m[\u001b[0m\u001b[1;34m'actionable'\u001b[0m\u001b[1;33m]\u001b[0m \u001b[1;33m=\u001b[0m \u001b[0mtags\u001b[0m\u001b[1;33m[\u001b[0m\u001b[1;34m'trackable_name'\u001b[0m\u001b[1;33m]\u001b[0m\u001b[1;33m.\u001b[0m\u001b[0mapply\u001b[0m\u001b[1;33m(\u001b[0m\u001b[1;32mlambda\u001b[0m \u001b[0mx\u001b[0m\u001b[1;33m:\u001b[0m \u001b[0mactionable\u001b[0m\u001b[1;33m[\u001b[0m\u001b[0mactionable\u001b[0m\u001b[1;33m[\u001b[0m\u001b[1;34m'tag'\u001b[0m\u001b[1;33m]\u001b[0m \u001b[1;33m==\u001b[0m \u001b[0mx\u001b[0m\u001b[1;33m]\u001b[0m\u001b[1;33m[\u001b[0m\u001b[1;34m'actionable'\u001b[0m\u001b[1;33m]\u001b[0m \u001b[1;33m==\u001b[0m \u001b[1;36m1\u001b[0m\u001b[1;33m)\u001b[0m\u001b[1;33m\u001b[0m\u001b[0m\n\u001b[0m\u001b[0;32m      6\u001b[0m \u001b[1;32mprint\u001b[0m \u001b[0mtags\u001b[0m\u001b[1;33m\u001b[0m\u001b[0m\n",
      "\u001b[1;32mC:\\Users\\mobile\\Anaconda2\\lib\\site-packages\\pandas\\core\\frame.pyc\u001b[0m in \u001b[0;36m__setitem__\u001b[1;34m(self, key, value)\u001b[0m\n\u001b[0;32m   2355\u001b[0m         \u001b[1;32melse\u001b[0m\u001b[1;33m:\u001b[0m\u001b[1;33m\u001b[0m\u001b[0m\n\u001b[0;32m   2356\u001b[0m             \u001b[1;31m# set column\u001b[0m\u001b[1;33m\u001b[0m\u001b[1;33m\u001b[0m\u001b[0m\n\u001b[1;32m-> 2357\u001b[1;33m             \u001b[0mself\u001b[0m\u001b[1;33m.\u001b[0m\u001b[0m_set_item\u001b[0m\u001b[1;33m(\u001b[0m\u001b[0mkey\u001b[0m\u001b[1;33m,\u001b[0m \u001b[0mvalue\u001b[0m\u001b[1;33m)\u001b[0m\u001b[1;33m\u001b[0m\u001b[0m\n\u001b[0m\u001b[0;32m   2358\u001b[0m \u001b[1;33m\u001b[0m\u001b[0m\n\u001b[0;32m   2359\u001b[0m     \u001b[1;32mdef\u001b[0m \u001b[0m_setitem_slice\u001b[0m\u001b[1;33m(\u001b[0m\u001b[0mself\u001b[0m\u001b[1;33m,\u001b[0m \u001b[0mkey\u001b[0m\u001b[1;33m,\u001b[0m \u001b[0mvalue\u001b[0m\u001b[1;33m)\u001b[0m\u001b[1;33m:\u001b[0m\u001b[1;33m\u001b[0m\u001b[0m\n",
      "\u001b[1;32mC:\\Users\\mobile\\Anaconda2\\lib\\site-packages\\pandas\\core\\frame.pyc\u001b[0m in \u001b[0;36m_set_item\u001b[1;34m(self, key, value)\u001b[0m\n\u001b[0;32m   2422\u001b[0m         \u001b[0mself\u001b[0m\u001b[1;33m.\u001b[0m\u001b[0m_ensure_valid_index\u001b[0m\u001b[1;33m(\u001b[0m\u001b[0mvalue\u001b[0m\u001b[1;33m)\u001b[0m\u001b[1;33m\u001b[0m\u001b[0m\n\u001b[0;32m   2423\u001b[0m         \u001b[0mvalue\u001b[0m \u001b[1;33m=\u001b[0m \u001b[0mself\u001b[0m\u001b[1;33m.\u001b[0m\u001b[0m_sanitize_column\u001b[0m\u001b[1;33m(\u001b[0m\u001b[0mkey\u001b[0m\u001b[1;33m,\u001b[0m \u001b[0mvalue\u001b[0m\u001b[1;33m)\u001b[0m\u001b[1;33m\u001b[0m\u001b[0m\n\u001b[1;32m-> 2424\u001b[1;33m         \u001b[0mNDFrame\u001b[0m\u001b[1;33m.\u001b[0m\u001b[0m_set_item\u001b[0m\u001b[1;33m(\u001b[0m\u001b[0mself\u001b[0m\u001b[1;33m,\u001b[0m \u001b[0mkey\u001b[0m\u001b[1;33m,\u001b[0m \u001b[0mvalue\u001b[0m\u001b[1;33m)\u001b[0m\u001b[1;33m\u001b[0m\u001b[0m\n\u001b[0m\u001b[0;32m   2425\u001b[0m \u001b[1;33m\u001b[0m\u001b[0m\n\u001b[0;32m   2426\u001b[0m         \u001b[1;31m# check if we are modifying a copy\u001b[0m\u001b[1;33m\u001b[0m\u001b[1;33m\u001b[0m\u001b[0m\n",
      "\u001b[1;32mC:\\Users\\mobile\\Anaconda2\\lib\\site-packages\\pandas\\core\\generic.pyc\u001b[0m in \u001b[0;36m_set_item\u001b[1;34m(self, key, value)\u001b[0m\n\u001b[0;32m   1462\u001b[0m \u001b[1;33m\u001b[0m\u001b[0m\n\u001b[0;32m   1463\u001b[0m     \u001b[1;32mdef\u001b[0m \u001b[0m_set_item\u001b[0m\u001b[1;33m(\u001b[0m\u001b[0mself\u001b[0m\u001b[1;33m,\u001b[0m \u001b[0mkey\u001b[0m\u001b[1;33m,\u001b[0m \u001b[0mvalue\u001b[0m\u001b[1;33m)\u001b[0m\u001b[1;33m:\u001b[0m\u001b[1;33m\u001b[0m\u001b[0m\n\u001b[1;32m-> 1464\u001b[1;33m         \u001b[0mself\u001b[0m\u001b[1;33m.\u001b[0m\u001b[0m_data\u001b[0m\u001b[1;33m.\u001b[0m\u001b[0mset\u001b[0m\u001b[1;33m(\u001b[0m\u001b[0mkey\u001b[0m\u001b[1;33m,\u001b[0m \u001b[0mvalue\u001b[0m\u001b[1;33m)\u001b[0m\u001b[1;33m\u001b[0m\u001b[0m\n\u001b[0m\u001b[0;32m   1465\u001b[0m         \u001b[0mself\u001b[0m\u001b[1;33m.\u001b[0m\u001b[0m_clear_item_cache\u001b[0m\u001b[1;33m(\u001b[0m\u001b[1;33m)\u001b[0m\u001b[1;33m\u001b[0m\u001b[0m\n\u001b[0;32m   1466\u001b[0m \u001b[1;33m\u001b[0m\u001b[0m\n",
      "\u001b[1;32mC:\\Users\\mobile\\Anaconda2\\lib\\site-packages\\pandas\\core\\internals.pyc\u001b[0m in \u001b[0;36mset\u001b[1;34m(self, item, value, check)\u001b[0m\n\u001b[0;32m   3416\u001b[0m         \u001b[1;32mexcept\u001b[0m \u001b[0mKeyError\u001b[0m\u001b[1;33m:\u001b[0m\u001b[1;33m\u001b[0m\u001b[0m\n\u001b[0;32m   3417\u001b[0m             \u001b[1;31m# This item wasn't present, just insert at end\u001b[0m\u001b[1;33m\u001b[0m\u001b[1;33m\u001b[0m\u001b[0m\n\u001b[1;32m-> 3418\u001b[1;33m             \u001b[0mself\u001b[0m\u001b[1;33m.\u001b[0m\u001b[0minsert\u001b[0m\u001b[1;33m(\u001b[0m\u001b[0mlen\u001b[0m\u001b[1;33m(\u001b[0m\u001b[0mself\u001b[0m\u001b[1;33m.\u001b[0m\u001b[0mitems\u001b[0m\u001b[1;33m)\u001b[0m\u001b[1;33m,\u001b[0m \u001b[0mitem\u001b[0m\u001b[1;33m,\u001b[0m \u001b[0mvalue\u001b[0m\u001b[1;33m)\u001b[0m\u001b[1;33m\u001b[0m\u001b[0m\n\u001b[0m\u001b[0;32m   3419\u001b[0m             \u001b[1;32mreturn\u001b[0m\u001b[1;33m\u001b[0m\u001b[0m\n\u001b[0;32m   3420\u001b[0m \u001b[1;33m\u001b[0m\u001b[0m\n",
      "\u001b[1;32mC:\\Users\\mobile\\Anaconda2\\lib\\site-packages\\pandas\\core\\internals.pyc\u001b[0m in \u001b[0;36minsert\u001b[1;34m(self, loc, item, value, allow_duplicates)\u001b[0m\n\u001b[0;32m   3517\u001b[0m \u001b[1;33m\u001b[0m\u001b[0m\n\u001b[0;32m   3518\u001b[0m         block = make_block(values=value, ndim=self.ndim,\n\u001b[1;32m-> 3519\u001b[1;33m                            placement=slice(loc, loc + 1))\n\u001b[0m\u001b[0;32m   3520\u001b[0m \u001b[1;33m\u001b[0m\u001b[0m\n\u001b[0;32m   3521\u001b[0m         \u001b[1;32mfor\u001b[0m \u001b[0mblkno\u001b[0m\u001b[1;33m,\u001b[0m \u001b[0mcount\u001b[0m \u001b[1;32min\u001b[0m \u001b[0m_fast_count_smallints\u001b[0m\u001b[1;33m(\u001b[0m\u001b[0mself\u001b[0m\u001b[1;33m.\u001b[0m\u001b[0m_blknos\u001b[0m\u001b[1;33m[\u001b[0m\u001b[0mloc\u001b[0m\u001b[1;33m:\u001b[0m\u001b[1;33m]\u001b[0m\u001b[1;33m)\u001b[0m\u001b[1;33m:\u001b[0m\u001b[1;33m\u001b[0m\u001b[0m\n",
      "\u001b[1;32mC:\\Users\\mobile\\Anaconda2\\lib\\site-packages\\pandas\\core\\internals.pyc\u001b[0m in \u001b[0;36mmake_block\u001b[1;34m(values, placement, klass, ndim, dtype, fastpath)\u001b[0m\n\u001b[0;32m   2516\u001b[0m                      placement=placement, dtype=dtype)\n\u001b[0;32m   2517\u001b[0m \u001b[1;33m\u001b[0m\u001b[0m\n\u001b[1;32m-> 2518\u001b[1;33m     \u001b[1;32mreturn\u001b[0m \u001b[0mklass\u001b[0m\u001b[1;33m(\u001b[0m\u001b[0mvalues\u001b[0m\u001b[1;33m,\u001b[0m \u001b[0mndim\u001b[0m\u001b[1;33m=\u001b[0m\u001b[0mndim\u001b[0m\u001b[1;33m,\u001b[0m \u001b[0mfastpath\u001b[0m\u001b[1;33m=\u001b[0m\u001b[0mfastpath\u001b[0m\u001b[1;33m,\u001b[0m \u001b[0mplacement\u001b[0m\u001b[1;33m=\u001b[0m\u001b[0mplacement\u001b[0m\u001b[1;33m)\u001b[0m\u001b[1;33m\u001b[0m\u001b[0m\n\u001b[0m\u001b[0;32m   2519\u001b[0m \u001b[1;33m\u001b[0m\u001b[0m\n\u001b[0;32m   2520\u001b[0m \u001b[1;31m# TODO: flexible with index=None and/or items=None\u001b[0m\u001b[1;33m\u001b[0m\u001b[1;33m\u001b[0m\u001b[0m\n",
      "\u001b[1;32mC:\\Users\\mobile\\Anaconda2\\lib\\site-packages\\pandas\\core\\internals.pyc\u001b[0m in \u001b[0;36m__init__\u001b[1;34m(self, values, ndim, fastpath, placement, **kwargs)\u001b[0m\n\u001b[0;32m   1661\u001b[0m \u001b[1;33m\u001b[0m\u001b[0m\n\u001b[0;32m   1662\u001b[0m         super(ObjectBlock, self).__init__(values, ndim=ndim, fastpath=fastpath,\n\u001b[1;32m-> 1663\u001b[1;33m                                           placement=placement, **kwargs)\n\u001b[0m\u001b[0;32m   1664\u001b[0m \u001b[1;33m\u001b[0m\u001b[0m\n\u001b[0;32m   1665\u001b[0m     \u001b[1;33m@\u001b[0m\u001b[0mproperty\u001b[0m\u001b[1;33m\u001b[0m\u001b[0m\n",
      "\u001b[1;32mC:\\Users\\mobile\\Anaconda2\\lib\\site-packages\\pandas\\core\\internals.pyc\u001b[0m in \u001b[0;36m__init__\u001b[1;34m(self, values, placement, ndim, fastpath)\u001b[0m\n\u001b[0;32m     88\u001b[0m             raise ValueError('Wrong number of items passed %d, placement '\n\u001b[0;32m     89\u001b[0m                              'implies %d' % (len(self.values),\n\u001b[1;32m---> 90\u001b[1;33m                                              len(self.mgr_locs)))\n\u001b[0m\u001b[0;32m     91\u001b[0m \u001b[1;33m\u001b[0m\u001b[0m\n\u001b[0;32m     92\u001b[0m     \u001b[1;33m@\u001b[0m\u001b[0mproperty\u001b[0m\u001b[1;33m\u001b[0m\u001b[0m\n",
      "\u001b[1;31mValueError\u001b[0m: Wrong number of items passed 4803, placement implies 1"
     ]
    }
   ],
   "source": [
    "actionable = pd.read_csv('tag_relevance.csv')\n",
    "import datetime, time\n",
    "tags = df[df['trackable_type'] == \"Tag\"]\n",
    "\n",
    "tags['actionable'] = tags['trackable_name'].apply(lambda x: actionable[actionable['tag'] == x]['actionable'] == 1)\n",
    "print tags"
   ]
  },
  {
   "cell_type": "code",
   "execution_count": 7,
   "metadata": {
    "collapsed": false
   },
   "outputs": [],
   "source": [
    "#since this takes a while to run, append the two dfs together and write to a csv file\n",
    "treatments_and_tags = pd.concat([treatments_only,tag_df])\n",
    "treatments_and_tags.to_csv('effectiveness.csv', index=False)"
   ]
  },
  {
   "cell_type": "code",
   "execution_count": null,
   "metadata": {
    "collapsed": true
   },
   "outputs": [],
   "source": []
  }
 ],
 "metadata": {
  "anaconda-cloud": {},
  "kernelspec": {
   "display_name": "Python [Root]",
   "language": "python",
   "name": "Python [Root]"
  },
  "language_info": {
   "codemirror_mode": {
    "name": "ipython",
    "version": 2
   },
   "file_extension": ".py",
   "mimetype": "text/x-python",
   "name": "python",
   "nbconvert_exporter": "python",
   "pygments_lexer": "ipython2",
   "version": "2.7.12"
  }
 },
 "nbformat": 4,
 "nbformat_minor": 0
}
