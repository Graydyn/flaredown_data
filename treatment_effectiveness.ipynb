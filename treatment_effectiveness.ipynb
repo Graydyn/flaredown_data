{
 "cells": [
  {
   "cell_type": "markdown",
   "metadata": {},
   "source": [
    "## Finding Effective Treatments\n",
    "\n",
    "Many of the analysis that we want to perform hinge on being able to determine which treatments or tags are having an effect on how a user feels.\n",
    "In this document we will go over a few different ways to measure this.\n",
    "\n",
    "There are two major challenges that we need to deal with.  First is that the effects that we are trying to measure may have unmeasured delays or cycles.  For example, a person who begins taking Synthroid for a thyroid condition is not expected to see improvement for several weeks.\n",
    "The second major challenge is that this data is inherently noisey.  The noise is expected from user reported data.  Nobody uses the app every single day, and may not give perfectly accurate representations of their symptoms.  \n",
    "\n",
    "We should also be aware that we may be dealing with some biases.  For example people who are drawn to use the app are likely suffering more than the average person, are more likely in a younger age group, and have likely already had some trouble with diagnosis. "
   ]
  },
  {
   "cell_type": "markdown",
   "metadata": {},
   "source": [
    "## Correlation\n",
    "\n",
    "The first thing we will try in finding effective treatments will be simply a correlation between treatments/tags and the severity of conditions/symptoms.\n",
    "\n",
    "We will take a look at our most well represented condition, Depression, and see if it has a correlation between being on a treatment or tag on a specific day, and their depression rating for that day."
   ]
  },
  {
   "cell_type": "code",
   "execution_count": 1,
   "metadata": {
    "collapsed": false
   },
   "outputs": [
    {
     "name": "stdout",
     "output_type": "stream",
     "text": [
      "found correlation between trackable_name_tooth infection and depression of 0.488312241178 at p value 0.0113742772503\n",
      "found correlation between trackable_name_Netflix day and depression of 0.430006581784 at p value 0.00885606973451\n",
      "found correlation between trackable_name_tired and depression of 1.0 at p value 0.0\n",
      "found correlation between trackable_name_Adderall and depression of -1.0 at p value 0.0\n",
      "found correlation between trackable_name_tired and depression of 1.0 at p value 0.0\n",
      "found correlation between trackable_name_tooth infection and depression of 0.488312241178 at p value 0.0113742772503\n",
      "found correlation between trackable_name_stiff and depression of 0.441640622711 at p value 0.00790734056491\n"
     ]
    }
   ],
   "source": [
    "import numpy as np\n",
    "import pandas as pd\n",
    "from scipy.stats.stats import pearsonr\n",
    "import warnings\n",
    "warnings.filterwarnings('ignore')\n",
    "\n",
    "P_THRESHOLD = 0.05\n",
    "\n",
    "df = pd.read_csv(\"flaredown_trackable_data_080316.csv\")\n",
    "df['checkin_date'] = pd.to_datetime(df['checkin_date'])\n",
    "\n",
    "just_depressed_users = df.groupby(['user_id', 'checkin_date']).filter(lambda x: 'Depression' in x['trackable_name'].values)\n",
    "\n",
    "#create a table of depression scores by user/day\n",
    "def add_depression_score(x):\n",
    "    return x[x['trackable_name'] == 'Depression']['trackable_value'].values[0]\n",
    "depression_days = just_depressed_users.groupby(['user_id', 'checkin_date'])\n",
    "\n",
    "depression_scores = depression_days.apply(add_depression_score)\n",
    "depression_scores = depression_scores.reset_index()\n",
    "depression_scores.columns = [\"user_id\", \"checkin_date\", \"depression_score\"]\n",
    "\n",
    "just_depressed_users = just_depressed_users[just_depressed_users['trackable_type'] == 'Treatment'].append(just_depressed_users[just_depressed_users['trackable_type'] == 'Tag'])\n",
    "just_depressed_users = pd.get_dummies(just_depressed_users, columns=['trackable_name'])\n",
    "\n",
    "just_depressed_users = just_depressed_users.merge(depression_scores, on=['user_id','checkin_date'])\n",
    "just_depressed_users['depression_score'] = pd.to_numeric(just_depressed_users['depression_score'])\n",
    "\n",
    "#check the correlation between a treatment being used and the depression score for each user\n",
    "userlist = set(just_depressed_users['user_id'][0:200]) #just printing out first 200 users so it's not too long to read\n",
    "for userid in userlist:  \n",
    "    user = just_depressed_users[just_depressed_users['user_id'] == userid]\n",
    "    first = True\n",
    "    for column in user.columns[5:len(user.columns)-1]:\n",
    "        corr,p =  pearsonr(user['depression_score'], user[column])\n",
    "        if (p < P_THRESHOLD):\n",
    "            print \"found correlation between \" + column + \" and depression of \" + str(corr) + \" at p value \" + str(p)"
   ]
  },
  {
   "cell_type": "markdown",
   "metadata": {},
   "source": [
    "What makes this difficult is that we are trying to determine if a treatment/tag is working for an individual, not the whole group.  Which means that our sample size for each user depends on how many days they have logged in the app.  This causes fairly low sample sizes, and inacceptably high p values, especially for this shotgun approach.  We also need to consider, does the treatment make the user feel better the same day, what if the treatment always makes the user feel better the next day?  What if a treatment takes a week to kick in?  Or what if the treatment, such as Humira for Crohn's, functions on a two week cycle?\n",
    "\n",
    "As can be seen above, the vast majority of users are not getting any correlations with an acceptable p value, so this strict method of determining if a treatment/tag is working can only be considered inconclusive.\n",
    "\n",
    "This way of thinking may prove fruitful when the app has been around for longer, but at this time the number of logged days per user is too low.\n",
    "\n",
    "\n",
    "## Comparison of Before and After Treatment\n",
    "\n",
    "In order to simplify this metric, lets take a look at the day that a treatment started.  If a user suffers from a condition, and then starts logging a new treatment or tag, does the condition get better after that point?  \n",
    "\n",
    "We will need to identify the date that a treatment or tag started, and then calculate the mean condition score before that date and the mean condition score after that date.  Hopefully the score after the date will be improved (lower).\n",
    "\n",
    "Using this metric helps us get around a few quirks of the data.  Since we are taking the mean, we can ignore any cyclical nature of the condition.  Also it accounts for users who have started taking a treatment but are not consistantly logging it (which our exploration shows is very common)."
   ]
  },
  {
   "cell_type": "code",
   "execution_count": 14,
   "metadata": {
    "collapsed": false
   },
   "outputs": [
    {
     "name": "stdout",
     "output_type": "stream",
     "text": [
      "   user_id         condition     treatment  before_value  after_value  \\\n",
      "0       20           Fatigue      Provigil      1.750000     1.444444   \n",
      "1       20  major somnolence      Provigil      2.000000     1.333333   \n",
      "2       20        sleepiness      Provigil      1.750000     1.777778   \n",
      "3       52           Allergy  Escitalopram      1.083333     0.500000   \n",
      "4       52           Allergy     Magnesium      0.800000     0.333333   \n",
      "5       52           Anxiety  Escitalopram      2.066667     0.500000   \n",
      "6       52           Anxiety     Magnesium      1.782609     0.666667   \n",
      "7       52      Constipation  Escitalopram      0.666667     0.291667   \n",
      "8       52      Constipation     Magnesium      0.550000     0.000000   \n",
      "9       52        Depression  Escitalopram      0.600000     0.291667   \n",
      "\n",
      "   effectiveness  \n",
      "0       0.305556  \n",
      "1       0.666667  \n",
      "2      -0.027778  \n",
      "3       0.583333  \n",
      "4       0.466667  \n",
      "5       1.566667  \n",
      "6       1.115942  \n",
      "7       0.375000  \n",
      "8       0.550000  \n",
      "9       0.308333  \n",
      "users that started taking a treatment after logging conditions 23866\n",
      "users that report lower condition ratings while on a treatment 10957\n"
     ]
    }
   ],
   "source": [
    "#create a dataframe of treatments with their start date\n",
    "treatments = df[df['trackable_type'] == \"Treatment\"]\n",
    "treatment_start_dates = treatments.groupby(['user_id', 'trackable_name'])['checkin_date'].min().reset_index()\n",
    "treatment_end_dates = treatments.groupby(['user_id', 'trackable_name'])['checkin_date'].max().reset_index()\n",
    "treatment_dates = treatment_start_dates.merge(treatment_end_dates, on=['user_id','trackable_name'])\n",
    "\n",
    "#create a dataframe of the conditions and symptoms by user with their start and end dates\n",
    "conditions = df[(df['trackable_type'] == \"Condition\") | (df['trackable_type'] == \"Symptom\")]\n",
    "conditions_start_end = conditions.groupby(['user_id', 'trackable_name'])['checkin_date'].min().reset_index()\n",
    "conditions_start_end = conditions_start_end.merge(conditions.groupby(['user_id', 'trackable_name'])['checkin_date'].max().reset_index(), on=['user_id','trackable_name'])\n",
    "\n",
    "#remove symptoms/conditions that haven't been recorded for at least a couple weeks (a couple weeks is arbitrary, feel free to adjust this value in the future)\n",
    "conditions_start_end = conditions_start_end[(conditions_start_end['checkin_date_y'] - conditions_start_end['checkin_date_x']).astype('timedelta64[D]') > 14]\n",
    "\n",
    "#merge the two dfs together\n",
    "dates_df = conditions_start_end.merge(treatment_dates, on='user_id')\n",
    "\n",
    "#changing column names because they are confusing post merge\n",
    "dates_df.columns = ['user_id','symptom_name','symptom_start','symptom_end', 'treatment_name','treatment_start', 'treatment_end']\n",
    "\n",
    "#remove symptoms/conditions that started logging around the same time as the treatment started logging\n",
    "dates_df = dates_df[(dates_df['treatment_start'] - dates_df['symptom_start']).astype('timedelta64[D]') > 7 ]\n",
    "#remove symptoms/conditions that stopped logging before the treatment started logging\n",
    "dates_df = dates_df[(dates_df['symptom_end'] - dates_df['treatment_start']).astype('timedelta64[D]') > 7 ]\n",
    "\n",
    "#iterate through and find the trackable_values before and after the treatment date\n",
    "def findBeforeAndAfterTreatment(dates_df_local, orig_df):\n",
    "    new_df = pd.DataFrame(columns=['user_id', 'condition','treatment','before_value','after_value','effectiveness'])\n",
    "    for row in dates_df_local.iterrows():\n",
    "        row = row[1]\n",
    "        df_user_symptom = orig_df[(orig_df['user_id'] == row['user_id']) & (orig_df['trackable_name'] == row['symptom_name'])]\n",
    "        values_before = df_user_symptom[(df_user_symptom['checkin_date'] < row['treatment_start'])]['trackable_value'].values\n",
    "        values_after = df_user_symptom[(df_user_symptom['checkin_date'] >= row['treatment_start']) & (df_user_symptom['checkin_date'] <= row['treatment_end'])]['trackable_value'].values\n",
    "        values_before = [x for x in values_before if str(x) != 'nan']\n",
    "        values_after = [x for x in values_after if str(x) != 'nan']\n",
    "        values_before = map(int,values_before)\n",
    "        values_after = map(int,values_after)\n",
    "        mean_before = np.mean(values_before)\n",
    "        mean_after = np.mean(values_after)\n",
    "        new_df = new_df.append({'user_id' : row['user_id'], 'condition' : row['symptom_name'], 'treatment' : row['treatment_name'], 'before_value' : mean_before, 'after_value' : mean_after, 'effectiveness' : mean_before - mean_after}, ignore_index=True)\n",
    "    return new_df\n",
    "\n",
    "treatments_only = findBeforeAndAfterTreatment(dates_df, df)\n",
    "print treatments_only.head(10)\n",
    "print \"users that started taking a treatment after logging conditions \" + str(len(treatments_only))\n",
    "print \"users that report lower condition ratings while on a treatment \" + str(len(treatments_only[treatments_only['effectiveness'] > 0]))\n",
    "treatments_only.to_csv('effectiveness.csv')\n"
   ]
  },
  {
   "cell_type": "markdown",
   "metadata": {},
   "source": [
    "Now that's more like it!  We have found quite a large number of users that are rating their symptoms as less severe after having started a treatment.  I've saved these results to a file for later use.\n",
    "\n",
    "## Working in the Tags\n",
    "\n",
    "Tags may hold the highest value for the recommender system.  For treatment recommendations, users would be best served by talking to their doctor.  But for tags such as \"stressed\" or \"good sleep\", it can be very difficult to tell what is going to work for different people.\n",
    "\n",
    "Unfortunately, the free-form nature of tags makes them much more difficult to extract useful information from.  Our exploration shows that almost all tags being used are the defaults, and the custom tags usually only have one occurance of each.  Still, our dataset is continuing to grow, and this may become an important feature in the future.\n",
    "\n",
    "The above code works on an assumption that a person has been using a Treatment during the interval between the first time they logged it and the last time they logged it.  The same can not reasonably be said about tags.  If a person tags \"good sleep\", we can not assume that they continue to sleep well for any duration.  For this reason we will need to use a different system to try and determine what is working for each user.  Instead we will use the difference between their average symptom rating, and the average between the symptom rating for the day of the tag, as well as the next day.  This will capture at least some delayed effect from the tag."
   ]
  },
  {
   "cell_type": "code",
   "execution_count": null,
   "metadata": {
    "collapsed": true
   },
   "outputs": [],
   "source": []
  }
 ],
 "metadata": {
  "kernelspec": {
   "display_name": "Python 2",
   "language": "python",
   "name": "python2"
  },
  "language_info": {
   "codemirror_mode": {
    "name": "ipython",
    "version": 2
   },
   "file_extension": ".py",
   "mimetype": "text/x-python",
   "name": "python",
   "nbconvert_exporter": "python",
   "pygments_lexer": "ipython2",
   "version": "2.7.10"
  }
 },
 "nbformat": 4,
 "nbformat_minor": 0
}
