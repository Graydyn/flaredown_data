{
 "cells": [
  {
   "cell_type": "markdown",
   "metadata": {},
   "source": [
    "## Condition Clustering\n",
    "\n",
    "One of the most hopeful uses of the flaredown data is to use it to identify sub-classifications of some of the conditions.\n",
    "\n",
    "Many of the conditions being reported have treatments that work for some people but not others.  Many conditions also vary greatly in terms of the symptoms that the afflicted will experience.  This document will attempt to find clusters within some of the conditions reported on Flaredown based off of symptoms and treatment effectiveness.  The hope is to find sub-classes of conditions that can be used for a more specific diagnosis.\n",
    "\n",
    "This is another way of attacking the same problem as the recommender system."
   ]
  },
  {
   "cell_type": "code",
   "execution_count": null,
   "metadata": {
    "collapsed": true
   },
   "outputs": [],
   "source": []
  }
 ],
 "metadata": {
  "kernelspec": {
   "display_name": "Python 2",
   "language": "python",
   "name": "python2"
  },
  "language_info": {
   "codemirror_mode": {
    "name": "ipython",
    "version": 2
   },
   "file_extension": ".py",
   "mimetype": "text/x-python",
   "name": "python",
   "nbconvert_exporter": "python",
   "pygments_lexer": "ipython2",
   "version": "2.7.10"
  }
 },
 "nbformat": 4,
 "nbformat_minor": 0
}
