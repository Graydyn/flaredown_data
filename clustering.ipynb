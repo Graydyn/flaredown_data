{
 "cells": [
  {
   "cell_type": "markdown",
   "metadata": {},
   "source": [
    "## Condition Clustering\n",
    "\n",
    "One of the most hopeful uses of the flaredown data is to use it to identify sub-classifications of some of the conditions.\n",
    "\n",
    "Many of the conditions being reported have treatments that work for some people but not others.  Many conditions also vary greatly in terms of the symptoms that the afflicted will experience.  This document will attempt to find clusters within some of the conditions reported on Flaredown based off of symptoms and treatment effectiveness.  The hope is to find sub-classes of conditions that can be used for a more specific diagnosis.\n",
    "\n",
    "To start, lets do an exploratory clustering, as our recommender system may use clustering, specifically K-Means."
   ]
  },
  {
   "cell_type": "markdown",
   "metadata": {
    "collapsed": true
   },
   "source": [
    "### Condition Clustering\n",
    "\n",
    "Our exploration has shown that the Flaredown users are reporting heaps of conditions simultaneously.  The conditions that occur together may be interesting.  PCA may provide an informative way of looking at this."
   ]
  },
  {
   "cell_type": "code",
   "execution_count": null,
   "metadata": {
    "collapsed": true
   },
   "outputs": [],
   "source": []
  },
  {
   "cell_type": "markdown",
   "metadata": {},
   "source": [
    "### User Clustering\n",
    "Can we find a set of features in which our users form clusters, or are we going to be looking at a fairly random distribution in the feature space?  We would like to know this as it will effect our strategy in the recommender system. Since the recommender system will need to build a seperate model for each condition, we will cluster the users on a per-condition basis, as usual starting with Depression since it is best represented at this time.\n",
    "\n",
    "For this analysis we will start with the effectiveness data, which has already taken on some preprocessing.  It is currently in the format of one row per user/condition/treatment combination.  Since we are trying to describe our users in the case, I will extract the users affected by the condition we are currently examining, and then pivot them to one row per user."
   ]
  },
  {
   "cell_type": "code",
   "execution_count": 20,
   "metadata": {
    "collapsed": false
   },
   "outputs": [
    {
     "name": "stdout",
     "output_type": "stream",
     "text": [
      "2508\n"
     ]
    }
   ],
   "source": [
    "import numpy as np\n",
    "import pandas as pd\n",
    "import warnings\n",
    "warnings.filterwarnings('ignore')\n",
    "\n",
    "df = pd.read_csv(\"effectiveness_082516.csv\")\n",
    "#print df.pivot_table(index=['user_id','condition'],columns='treatment',values='effectiveness')\n",
    "depressed_df = df[df['condition'] == 'Depression'].pivot_table(index='user_id',columns='treatment',values='effectiveness').reset_index()\n",
    "depressed_df = depressed_df.fillna(0)\n",
    "print len(depressed_df.columns)"
   ]
  },
  {
   "cell_type": "markdown",
   "metadata": {},
   "source": [
    "Given the high number of features, I'm going to attempt PCA on this before doing any visualizations.  I can't visualize 2500 dimensions.  It's a personal failing that I'm working on."
   ]
  },
  {
   "cell_type": "code",
   "execution_count": 37,
   "metadata": {
    "collapsed": false
   },
   "outputs": [
    {
     "name": "stdout",
     "output_type": "stream",
     "text": [
      "Variance explained by 2 components 0.999971102733\n"
     ]
    },
    {
     "data": {
      "text/plain": [
       "[<matplotlib.lines.Line2D at 0x7f81e5a71f10>]"
      ]
     },
     "execution_count": 37,
     "metadata": {},
     "output_type": "execute_result"
    },
    {
     "data": {
      "image/png": "[encoded data removed]",
      "text/plain": [
       "<matplotlib.figure.Figure at 0x7f81e59f5e90>"
      ]
     },
     "metadata": {},
     "output_type": "display_data"
    }
   ],
   "source": [
    "from sklearn.decomposition import PCA\n",
    "%matplotlib inline\n",
    "import matplotlib.pyplot as plt\n",
    "\n",
    "pca = PCA(n_components=2)  #trying 2 so I can plot it\n",
    "pca.fit(depressed_df)\n",
    "fit_data = pca.transform(depressed_df)\n",
    "print \"Variance explained by 2 components \" + str(np.sum(pca.explained_variance_ratio_))\n",
    "\n",
    "plt.plot(fit_data[:,0], fit_data[:,1], 'ro')"
   ]
  },
  {
   "cell_type": "markdown",
   "metadata": {},
   "source": [
    "There appears to be an outlier that we could cluster on, and maybe that group to the left could be a cluster.  But I'm concerned that it seems like almost all points are in bunched up around 0,-200.  I'm going to try K-means on the original data and check the rand score.\n",
    "http://scikit-learn.org/stable/modules/generated/sklearn.metrics.adjusted_rand_score.html"
   ]
  },
  {
   "cell_type": "code",
   "execution_count": null,
   "metadata": {
    "collapsed": true
   },
   "outputs": [],
   "source": []
  }
 ],
 "metadata": {
  "kernelspec": {
   "display_name": "Python 2",
   "language": "python",
   "name": "python2"
  },
  "language_info": {
   "codemirror_mode": {
    "name": "ipython",
    "version": 2
   },
   "file_extension": ".py",
   "mimetype": "text/x-python",
   "name": "python",
   "nbconvert_exporter": "python",
   "pygments_lexer": "ipython2",
   "version": "2.7.10"
  }
 },
 "nbformat": 4,
 "nbformat_minor": 0
}
