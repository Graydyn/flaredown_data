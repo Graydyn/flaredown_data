{
 "cells": [
  {
   "cell_type": "markdown",
   "metadata": {},
   "source": [
    "## Recommender System\n",
    "\n",
    "The goal of this document is to provide a way to recommend treatments to users.  For each condition, we can see what treatments have worked for other patients.  We can also go one step further and say, if Treatment/Tag A has worked for you, then other people who have had success with Treatment/Tag A have also had success with Treatment/Tag B.\n",
    "\n",
    "The same will also be possible in reverse.  Some Treatments/Tags may cause Conditions/Symptoms to worsen, and we may be able to recommend against those Treatments/Tags.\n",
    "\n",
    "In order to say that a treatment is working, we need a measure of that.  There are a few strategies for doing that, so it's handled in a separate notebook \"treatment_effectiveness\".\n",
    "\n",
    "### Filter Type\n",
    "\n",
    "We will use a collaborative filter to make our recommendations, but there are two different types that we need to consider.  Item based filtering will form groups of associated items(in our case, an item is a treatment/tag), and recommend people who have good results with items in that set to other items in that set.  User based filtering will try to form groups of users that have success with similar items, and make recommendations based on what items work well for that group.  We will of course figure out which one is best for our situation by trying both.\n"
   ]
  },
  {
   "cell_type": "code",
   "execution_count": 2,
   "metadata": {
    "collapsed": false
   },
   "outputs": [
    {
     "name": "stdout",
     "output_type": "stream",
     "text": [
      "   user_id         condition     treatment  before_value  after_value  \\\n",
      "0       20           Fatigue      Provigil      1.750000     1.444444   \n",
      "1       20  major somnolence      Provigil      2.000000     1.333333   \n",
      "2       20        sleepiness      Provigil      1.750000     1.777778   \n",
      "3       52           Allergy  Escitalopram      1.083333     0.500000   \n",
      "4       52           Allergy     Magnesium      0.800000     0.333333   \n",
      "\n",
      "   effectiveness  \n",
      "0       0.305556  \n",
      "1       0.666667  \n",
      "2      -0.027778  \n",
      "3       0.583333  \n",
      "4       0.466667  \n"
     ]
    }
   ],
   "source": [
    "import numpy as np\n",
    "import pandas as pd\n",
    "import warnings\n",
    "warnings.filterwarnings('ignore')\n",
    "\n",
    "df = pd.read_csv(\"effectiveness.csv\")\n",
    "print df.head()"
   ]
  },
  {
   "cell_type": "markdown",
   "metadata": {},
   "source": [
    "### Item Based Collaborative Filtering\n",
    "\n",
    "We will start by trying to predict a single treatment for a single condition, and see how that goes.  Since Depression is common, we will start with that."
   ]
  },
  {
   "cell_type": "code",
   "execution_count": 32,
   "metadata": {
    "collapsed": false
   },
   "outputs": [
    {
     "name": "stdout",
     "output_type": "stream",
     "text": [
      "stressed         44\n",
      "tired            41\n",
      "ate breakfast    35\n",
      "good sleep       30\n",
      "period           21\n",
      "had sex          20\n",
      "happy            20\n",
      "alcohol          18\n",
      "walked           16\n",
      "exercise         14\n",
      "Anxious          14\n",
      "Ibuprofen        13\n",
      "Superlong nap    13\n",
      "travel           12\n",
      "poor sleep       12\n",
      "Name: treatment, dtype: int64\n"
     ]
    }
   ],
   "source": [
    "print df[df['condition'] == \"Depression\"]['treatment'].value_counts().head(15)\n",
    "#print df[(df['treatment'] == \"good sleep\") & (df['condition'] == \"Depression\")]"
   ]
  },
  {
   "cell_type": "markdown",
   "metadata": {
    "collapsed": true
   },
   "source": [
    "OK, so we are hurting for samples of specific treatments.  Let's go with \"good sleep\" as it has the most samples out of the tags which sound like they might help with depression.\n",
    "We will hold a few users back who have reported good sleep while suffering from depression.  Our first goal will be to use the rest of the users to create a model which can accurately predict the effectiveness for the test users.\n",
    "\n",
    "First up we will make a recommendation on \"good sleep\" by finding which other treatment/tag is most correlated to it.  Correlation makes a great distance measure because it gives a p-value which can be used to assess how significant the distance measures are. Pearson correlation is a measure of how much a variable changes relative to another variable, divided by how much they change independently.  This will help us accomodate the fact that not all users will rate their symptoms the same.  Presumably, some users will consistently rate their symptoms as being worse than others."
   ]
  },
  {
   "cell_type": "code",
   "execution_count": 16,
   "metadata": {
    "collapsed": false
   },
   "outputs": [
    {
     "name": "stdout",
     "output_type": "stream",
     "text": [
      "{'humid': 0.93698444082858501, 'neck ache': 1.0, 'Stayed at home': 1.0, 'Upset stomach': 0.54524358134172757, 'ate breakfast': 0.80653698125459583, 'middleschmertz': -0.99999999999999978, 'busy': 0.71530534640575005, 'family': 1.0, 'ovarian cramps': -1.0, \"can't sleep\": 1.0, 'paranoia': 1.0, 'ovulating': -1.0, 'dairy': -0.97493712242917863, 'shoulder pain': 1.0, 'crying': 1.0, ' toothache': 0.99999999999999989, 'nausea': 1.0, 'good day': 1.0, 'right knee weakness': 1.0, 'Adam over': -1.0, 'chest pain': 1.0, 'sore legs': 1.0, 'distraction': 1.0, 'Benadryl': 0.99999999999999989, 'congested': -1.0, 'bad sleep': 0.6645785337312623, 'Day off': -1.0, 'Marijuana': -1.0, 'anxious': 1.0, 'doctor appointment': 0.99999999999999989, 'had therapy': 1.0, 'overslept': 1.0, 'Went to work': 0.46368590165453483, 'neck pain': 0.99999999999999989, 'unproductive': 1.0, 'tired': 0.57515640453310901, 'household chores': 1.0, 'Period': 1.0, 'fast food': 1.0, 'napped': 0.65546509150066878, 'worried': 0.59993004434901476, 'Bad day': 1.0, 'bleh': -0.99999999999999989, 'Headache': -0.97189434648449569, 'gross': 1.0, 'stressful': 1.0, 'alcohol': 0.75489918172210524, 'poor sleep': 0.34689725743639194, 'bad dreams': 1.0, 'convention day': -1.0, 'Dexedrine': nan, 'jaw ache': 1.0, 'neckache': 0.99999999999999989, 'exercise': 0.95233918452923727, 'brain fog': 1.0, 'busy day': 1.0, 'confusion': -0.99999999999999978, 'Superlong nap': 0.94121396119185985, 'not enough sleep': -0.10763963406600814, 'Poor sleep quality': 1.0, 'packing': 0.99078265693450296, 'congestion': 1.0, 'active': 0.73143877811498592, 'hip pain': 1.0, 'Rainy Day': 0.99999999999999989, 'shabbat': 0.27754911201655602, 'slept in': 0.19517699763544302, 'slept badly': -1.0, 'Cymbalta': -0.74681088906641957, 'stressed': 0.90325338711687975, 'ibs issues': 1.0, 'chills': -1.0, 'suicidal ideation': 1.0, 'Yoga': 1.0, 'danced': 0.99615446975133348, 'hiking': 0.63313642972983786, 'period': 0.79011357558824169, 'had sex': 0.79892022135736607, 'dental work': 1.0, 'cramps': -1.0, 'dentist visit': 1.0, 'lots of walking': 0.99999999999999989, 'off my meds': -1.0, 'difficulty breathing': 1.0, 'exhausted': 0.71860284434696531, 'sleepover': -1.0, 'so much pain': -1.0, 'calm': 1.0, 'tooth pain': -1.0, 'N-acetyl cysteine': 1.0, 'no work': 0.32148085902785462, 'slept late': 1.0, 'hyperventilating': 1.0, 'headache': 1.0, 'loss of appetite': -1.0, 'gluten': 1.0, 'relaxed': 0.91491885334218526, 'sleep paralysis': -1.0, 'job interview': -1.0, 'gum pain': 1.0, 'leg cramps': 1.0, 'worked': -1.0, 'cramping': -1.0, 'hot and humid': 1.0, 'anxiety': -0.689825611562215, 'late night': 1.0, 'gassy': 1.0, 'depressed': -1.0, 'work': 0.2161824472813863, 'Alcohol previous night': -1.0, 'black dogs': -0.99999999999999989, 'Ibuprofen': -1.0, 'body aches': -1.0, 'happy': 0.72719628150839677, 'menstruation': 0.77202771672813775, 'jet lag': 1.0, 'left the house': 1.0, 'No Exercise': -1.0, 'Acetaminophen': -1.0, 'very tired': 1.0, 'sad': 1.0, 'cleaned': 1.0, 'food poisoning': 0.99999999999999978, 'junk food': 0.99999999999999978, 'Good day': 0.078845643646479585, 'trouble getting up': 0.74532954056764467, 'productive': 0.85943071925136294, 'yoga': 1.0, 'choking': -0.99999999999999989, 'migraine': 0.87937467811985248, 'travel': 0.94284913443910523, 'nap': 1.0, 'sick': 0.97629304490080393, 'panic attack': 0.99999999999999978, 'feet tingly': 1.0, 'itchy eyes': 1.0, 'pain': 0.99999999999999978, 'shoulder ache': 1.0, 'back pain': 0.98157044680730177, 'menstruating': 0.99999999999999978, 'Daytime nap': 0.99999999999999989, 'fatigue': -1.0, 'cleaning': 0.99999999999999978, 'no breakfast': 1.0, 'trouble thinking': 1.0, 'Mebeverine': 0.99999999999999978, 'good tired': 1.0, 'Car travel': 1.0, 'Anxious': 0.91071732150618967, 'shortness of breath': -1.0, 'hungry': -0.99999999999999989, 'walked': 0.65766834563473486, 'cooked': 1.0, 'forgot one dose of meds': 0.65271861757395488, 'tooth ache': -1.0, 'Irritable': 0.33643578966124316}\n"
     ]
    }
   ],
   "source": [
    "from scipy.stats.stats import pearsonr\n",
    "\n",
    "good_sleep_users = list(set(df[(df['treatment'] == \"good sleep\") & (df['condition'] == \"Depression\")]['user_id']))\n",
    "test_users = good_sleep_users[:5]\n",
    "train_users = good_sleep_users[5:]\n",
    "train_rows = df[df['user_id'].isin(train_users)]\n",
    "test_rows = df[df['user_id'].isin(test_users)]\n",
    "\n",
    "#just going to abstract this now in case we need it later\n",
    "#finds the pearson correlation between the specified treatment, and all of the treatments used to in conjunction with the specified condition\n",
    "def correlate_treatments(train_df, treatment, condition):\n",
    "    affected_rows = train_df[train_df['condition'] == condition]\n",
    "    other_treatments = list(set(affected_rows[affected_rows['treatment'] != treatment]['treatment']))\n",
    "    treatment_correlations = {}\n",
    "    for treatment2 in other_treatments:\n",
    "        users_with_treatment = list(set(affected_rows[affected_rows['treatment'] == treatment2]['user_id']))\n",
    "        treatment1_values = affected_rows[(affected_rows['user_id'].isin(users_with_treatment)) & (affected_rows['treatment'] == treatment)]['effectiveness']\n",
    "        treatment2_values = affected_rows[(affected_rows['user_id'].isin(users_with_treatment)) & (affected_rows['treatment'] == treatment2)]['effectiveness']\n",
    "        if len(treatment1_values) > 1 :\n",
    "            correlation = pearsonr(treatment1_values, treatment2_values)[0]\n",
    "            treatment_correlations[treatment2] = correlation\n",
    "    return treatment_correlations\n",
    "        \n",
    "treatment_correlations = correlate_treatments(train_rows, 'good sleep', 'Depression')\n",
    "print treatment_correlations"
   ]
  },
  {
   "cell_type": "markdown",
   "metadata": {
    "collapsed": true
   },
   "source": [
    "We can see that the number of correlations we've learned between \"good sleep\" and other treatments for depression is very low.  \n",
    "The reason for this is that if we look at users that have tried \"good sleep\" and any other tag, they are almost always the only user that has tried that combination.  Which leaves us comparing single values, which Pearson can't help us with.  We can also see a lot of correlations that are basically 1 or -1, which are usually occurring when we have just two users with the same tags.\n",
    "\n",
    "This may still be the best way to build the recommender system, but the volume of data would need to increase, probably by orders of magnitude.\n",
    "\n",
    "We can still try a different distance measure, so let's try the cosine similarity.  This way we can still get the distance between two points.  Whether those distances will be useful remains to be seen."
   ]
  },
  {
   "cell_type": "code",
   "execution_count": 15,
   "metadata": {
    "collapsed": false
   },
   "outputs": [],
   "source": [
    "from scipy.spatial import distance\n",
    "\n",
    "def cosine_distances(train_df, treatment, condition):\n",
    "    affected_rows = train_df[train_df['condition'] == condition]\n",
    "    other_treatments = list(set(affected_rows[affected_rows['treatment'] != treatment]['treatment']))\n",
    "    treatment_correlations = {}\n",
    "    for treatment2 in other_treatments:\n",
    "        users_with_treatment = list(set(affected_rows[affected_rows['treatment'] == treatment2]['user_id']))\n",
    "        treatment1_values = affected_rows[(affected_rows['user_id'].isin(users_with_treatment)) & (affected_rows['treatment'] == treatment)]['effectiveness']\n",
    "        treatment2_values = affected_rows[(affected_rows['user_id'].isin(users_with_treatment)) & (affected_rows['treatment'] == treatment2)]['effectiveness']\n",
    "        if not np.isnan(treatment2_values).any():\n",
    "            cos_distance = distance.cosine(treatment1_values, treatment2_values)\n",
    "            treatment_correlations[treatment2] = cos_distance\n",
    "    return treatment_correlations\n",
    "\n",
    "treatment_correlations = cosine_distances(train_rows, 'good sleep', 'Depression')"
   ]
  },
  {
   "cell_type": "markdown",
   "metadata": {},
   "source": [
    "This one is a bit long to print out.  There are a lot of tags, but a lot of them have a distance of 0.   Still, if one of the 0 length tags is found in our test set these entries might be useful.  It's the equivalent of saying \"this treatment worked this well for this one other person\".  So maybe better than nothing.\n",
    "\n",
    "I will now perform a test and validate."
   ]
  },
  {
   "cell_type": "code",
   "execution_count": 50,
   "metadata": {
    "collapsed": false
   },
   "outputs": [
    {
     "name": "stdout",
     "output_type": "stream",
     "text": [
      "value most correlated to good sleep was hot and humid with value 1.0\n",
      "value most correlated to good sleep was feet tingly with value 1.0\n",
      "value most correlated to good sleep was family with value 1.0\n",
      "value most correlated to good sleep was cleaning with value 1.0\n",
      "value most correlated to good sleep was ate breakfast with value 0.806536981255\n",
      "predicted value was is 0.3 real value is 0.222222222222\n",
      "predicted value was is 0.0 real value is -1.0\n",
      "predicted value was is 0.166666666667 real value is 0.2\n",
      "predicted value was is -0.8 real value is -0.8\n",
      "predicted value was is -1.66666666667 real value is -1.25\n",
      "r2 accuracy score 0.382066572767\n"
     ]
    }
   ],
   "source": [
    "from sklearn.metrics import r2_score\n",
    "\n",
    "def predict_effectiveness(x):\n",
    "    highestCorrelationValue = 0\n",
    "    highestCorrelationKey = \"\"\n",
    "    highestCorrelationEffectiveness = 0\n",
    "    for value in x:\n",
    "        if value in treatment_correlations.keys():\n",
    "            if treatment_correlations[value] > highestCorrelationValue:\n",
    "                highestCorrelationValue = treatment_correlations[value]\n",
    "                highestCorrelationKey = value\n",
    "                highestCorrelationEffectiveness = treatment_correlations\n",
    "    print \"value most correlated to good sleep was \" + highestCorrelationKey + \" with value \" + str(highestCorrelationValue)\n",
    "    return str(highestCorrelationValue) + \",\" + highestCorrelationKey\n",
    "\n",
    "test_depression_rows = test_rows[test_rows['condition'] == 'Depression']\n",
    "test_depression_rows['closest_correlation'] = test_depression_rows.groupby('user_id')['treatment'].transform(predict_effectiveness)\n",
    "real_values = []\n",
    "predicted_values = []\n",
    "for user in test_users:\n",
    "    corr_value,corr_key = test_depression_rows[(test_depression_rows['user_id'] == user) & (test_depression_rows['treatment'] == 'good sleep')]['closest_correlation'].values[0].split(',')\n",
    "    predicted_value = test_depression_rows[(test_depression_rows['user_id'] == user) & (test_depression_rows['treatment'] == corr_key)]['effectiveness'].values[0]\n",
    "    real_value = test_depression_rows[(test_depression_rows['user_id'] == user)]['effectiveness'].values[0]\n",
    "    print \"predicted value was is \" + str(predicted_value) + \" real value is \" + str(real_value)\n",
    "    real_values.append(real_value)\n",
    "    predicted_values.append(predicted_value)\n",
    "print \"r2 accuracy score \" + str(r2_score(real_values, predicted_values))\n"
   ]
  },
  {
   "cell_type": "markdown",
   "metadata": {},
   "source": [
    "### User Based Collaborative Filtering\n",
    "\n",
    "Initial results on the item based filter are not exactly ready from production, but also not entirely discouraging.  It's at least showing some predictive power, and on very little data.\n",
    "\n",
    "Lets try the other approach."
   ]
  },
  {
   "cell_type": "code",
   "execution_count": null,
   "metadata": {
    "collapsed": true
   },
   "outputs": [],
   "source": []
  }
 ],
 "metadata": {
  "kernelspec": {
   "display_name": "Python 2",
   "language": "python",
   "name": "python2"
  },
  "language_info": {
   "codemirror_mode": {
    "name": "ipython",
    "version": 2
   },
   "file_extension": ".py",
   "mimetype": "text/x-python",
   "name": "python",
   "nbconvert_exporter": "python",
   "pygments_lexer": "ipython2",
   "version": "2.7.10"
  }
 },
 "nbformat": 4,
 "nbformat_minor": 0
}
