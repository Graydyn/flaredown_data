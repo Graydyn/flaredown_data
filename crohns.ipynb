{
 "cells": [
  {
   "cell_type": "code",
   "execution_count": 51,
   "metadata": {
    "collapsed": false
   },
   "outputs": [
    {
     "name": "stdout",
     "output_type": "stream",
     "text": [
      "   user_id checkin_date  trackable_id trackable_type      trackable_name  \\\n",
      "0        3   2015-11-26          1069      Condition  Ulcerative colitis   \n",
      "1        6   2015-11-26          1069      Condition  Ulcerative colitis   \n",
      "2        8   2015-06-22           269      Condition     Crohn's disease   \n",
      "3        9   2015-05-26           421      Condition       Gastroparesis   \n",
      "4        9   2015-05-26           152        Symptom              Nausea   \n",
      "5        9   2015-05-26          9890      Treatment              Zofran   \n",
      "6        9   2015-05-26             1            Tag               tired   \n",
      "7        9   2015-05-26             2            Tag            stressed   \n",
      "8        9   2015-05-26             3            Tag               feels   \n",
      "9        9   2015-05-27           421      Condition       Gastroparesis   \n",
      "\n",
      "  trackable_value  \n",
      "0               0  \n",
      "1               0  \n",
      "2               3  \n",
      "3               2  \n",
      "4               1  \n",
      "5          8.0 mg  \n",
      "6             NaN  \n",
      "7             NaN  \n",
      "8             NaN  \n",
      "9               2  \n"
     ]
    }
   ],
   "source": [
    "%matplotlib inline\n",
    "import matplotlib.pyplot as plt\n",
    "import warnings\n",
    "warnings.filterwarnings('ignore')\n",
    "\n",
    "import numpy as np\n",
    "import pandas as pd\n",
    "import random\n",
    "\n",
    "df = pd.read_csv(\"flaredown_trackable_data_080316.csv\")\n",
    "df['checkin_date'] = pd.to_datetime(df['checkin_date'])\n",
    "\n",
    "print df.head(10)"
   ]
  },
  {
   "cell_type": "code",
   "execution_count": 54,
   "metadata": {
    "collapsed": false
   },
   "outputs": [],
   "source": [
    "crohns_df = df.groupby(['user_id', 'checkin_date']).filter(lambda x: ('Crohn\\'s disease' in x['trackable_name'].values) or ('Crohn\\'s' in x['trackable_name'].values))"
   ]
  },
  {
   "cell_type": "code",
   "execution_count": 56,
   "metadata": {
    "collapsed": false
   },
   "outputs": [
    {
     "name": "stdout",
     "output_type": "stream",
     "text": [
      "113 distinct users reporting crohns\n",
      "out of 1810 distintct users\n",
      "0.0624309392265\n"
     ]
    }
   ],
   "source": [
    "crohn_count = len(crohns_df.groupby('user_id'))\n",
    "all_count = len(df.groupby('user_id'))\n",
    "print str(crohn_count) + \" distinct users reporting crohns\"\n",
    "print \"out of \" + str(all_count) + \" distintct users\"\n",
    "print str(float(crohn_count) / float(all_count))"
   ]
  },
  {
   "cell_type": "code",
   "execution_count": 70,
   "metadata": {
    "collapsed": false
   },
   "outputs": [
    {
     "name": "stdout",
     "output_type": "stream",
     "text": [
      "distinct treatments : 71\n",
      "\n",
      "number of users using each treatment\n",
      "[('Azathioprine', 12), ('Prednisone', 10), ('Vitamin d', 6), ('Humira', 5), ('Prednisolone', 4), ('Imuran', 4), ('Budesonide', 4), ('Allopurinol', 4), ('Folic acid', 3), ('Tramadol', 3), ('Entocort', 3), ('Prozac', 2), ('Questran', 2), ('Peppermint oil', 2), ('Coffee', 2), ('7-keto-dhea', 2), ('Lialda', 2), ('Dexamethasone', 2), ('Probiotic', 2), ('Colesevelam', 2), ('Vitamin C', 2), ('Bentyl', 2), ('Olive oil', 2), ('Calcium citrate', 2), ('Marijuana', 2), ('Methotrexate', 2), ('Ritalin', 1), ('Sunbathing', 1), ('Lansoprazole', 1), ('Mediterranean Diet', 1), ('Sertraline', 1), ('Biest', 1), ('Calcium Suplment', 1), ('Amitriptyline', 1), ('Lithium', 1), ('My Goodness Organics meals', 1), ('Solifenacin', 1), ('Flo-pred', 1), ('accutane', 1), ('6-MP', 1), ('Tylenol 3', 1), ('Feverfew', 1), ('Wellbutrin', 1), ('Carbomer eye drops', 1), ('Vitamin b12', 1), ('Rice protein Shake', 1), ('methotraxate', 1), ('Cerelle', 1), ('Mercaptopurine', 1), ('Cyclizine', 1), ('Fexofenadine', 1), ('thyroid support complex', 1), ('Aga', 1), ('Tacrolimus', 1), ('Modulen', 1), ('Propanolol', 1), ('Iron', 1), ('Venlafexine', 1), ('Placebo', 1), ('Buscopan', 1), ('Cetraben cream', 1), ('Sulfasalazin EN', 1), ('Tea', 1), ('Pentasa', 1), ('Propranolol', 1), ('Heating Pad', 1), ('Mesalazine', 1), ('MMJ', 1), ('Paracetamol', 1), ('Passionflower', 1), ('Plaquenil', 1)]\n"
     ]
    }
   ],
   "source": [
    "crohns_treatments = set(crohns_df[crohns_df['trackable_type'] == 'Treatment']['trackable_name'])\n",
    "crohns_df['treatment_count'] = crohns_df[crohns_df['trackable_type'] == 'Treatment'].groupby('user_id')['trackable_name'].transform('count')\n",
    "print \"distinct treatments : \" + str(len(crohns_treatments))\n",
    "treatment_counts = {}\n",
    "for treatment in crohns_treatments:\n",
    "    treat_df = crohns_df[crohns_df['trackable_name'] == treatment]\n",
    "    treatment_counts[treatment] = len(treat_df.groupby('user_id'))\n",
    "print \"\"\n",
    "print \"number of users using each treatment\"\n",
    "import operator \n",
    "sorted_treatments = sorted(treatment_counts.items(), key=operator.itemgetter(1), reverse=True)\n",
    "print sorted_treatments"
   ]
  },
  {
   "cell_type": "markdown",
   "metadata": {},
   "source": [
    "Somebody is self-reporting \"placebo\"? "
   ]
  },
  {
   "cell_type": "code",
   "execution_count": 59,
   "metadata": {
    "collapsed": false
   },
   "outputs": [
    {
     "name": "stdout",
     "output_type": "stream",
     "text": [
      "distinct tags : 377\n",
      "\n",
      "number of users using each tag\n",
      "[('tired', 43), ('stressed', 27), ('good sleep', 18), ('alcohol', 11), ('Migraine', 10), ('had sex', 7), ('ate breakfast', 7), ('Went to work', 7), ('walked', 7), ('bad sleep', 6), ('happy', 6), ('relaxed', 6), ('Superlong nap', 5), ('active', 4), ('hiking', 4), ('period', 4), ('gluten', 4), ('dairy', 3), ('exercise', 3), ('busy', 3), ('worried', 3), ('Weight loss', 3), ('worked', 3), ('Cold', 3), ('cleaning', 3), ('Anxious', 3), ('no work', 3), ('Broke VLCD', 2), ('packing', 2), ('slept in', 2), ('chocolate', 2), ('doctor appointment', 2), ('work', 2), ('restless sleep', 2), ('slimfast', 2), ('Late lunch', 2), ('painful', 2), ('anaphylactic shock', 2), ('bronchitis', 2), ('pain', 2), ('ugh', 2), ('Angry breakup', 2), ('stayed home', 2), ('exam', 2), ('blood test', 2), ('Tired', 2), ('napped', 2), ('coffee', 2), ('carrot sticks', 2), ('VLCD', 2), ('poor sleep', 2), ('have cold', 2), ('bad pain day', 2), ('curry', 2), ('very tired', 2), ('sick', 2), ('test', 2), ('weekend', 2), ('worn out', 1), ('colonoscopy', 1), ('meditation', 1), ('Start of period', 1), ('fever dreams', 1), ('jogged', 1), ('patirnce', 1), ('10K steps', 1), ('Dinner with violet', 1), ('Shake wake up', 1), ('nausea', 1), ('grilled cheese', 1), ('stiff', 1), ('Physical therapy', 1), ('Tried something new', 1), ('anxious', 1), ('warm day', 1), ('masturbated', 1), ('cookies', 1), ('bed day', 1), ('lack of sleep', 1), ('deep massage', 1), ('home renovation', 1), ('stressful', 1), ('backfromretreat', 1), ('Ate ok', 1), ('melancholy', 1), ('Slept in amazing bed', 1), ('sinua infection', 1), ('grumpy ', 1), ('obsessing', 1), ('Reduced Medication', 1), ('hip pain', 1), ('great', 1), ('Cried', 1), ('stretching', 1), ('drank wine', 1), ('went to a cookout ', 1), ('canker sore', 1), ('Onions', 1), ('massage', 1), ('Socialized', 1), ('patience', 1), ('Day after entyvio', 1), ('sugar', 1), ('Colonoscopy recovery', 1), ('angry', 1), ('emdofedge', 1), ('slept late', 1), ('sore back', 1), ('grumpy no reason', 1), ('food reaction', 1), ('sore foot', 1), ('salaf', 1), ('salad', 1), ('over ate', 1), ('lots of soda', 1), ('eyes hurt', 1), ('productive', 1), ('up since 3am', 1), ('drained', 1), ('fluish feeling', 1), ('Tiring', 1), ('weed', 1), ('beach', 1), ('fever', 1), ('lots of dust', 1), ('Colonoscopy prep', 1), ('ate lunch', 1), ('tomato', 1), ('Busy Day', 1), ('good gig', 1), ('Ultrasound scan', 1), (\"didn't eat enough\", 1), ('It was a bad idea', 1), ('cold', 1), ('floor polish fumes', 1), ('travelling', 1), ('soccer', 1), ('hurting', 1), ('niice', 1), ('URI', 1), ('BPPV day', 1), ('played bball', 1), ('Hip and leg spasms', 1), ('had pelvic PT', 1), ('very sick', 1), ('lifted weights', 1), ('shaking', 1), ('onlyuthoughtthatuwerefriends', 1), ('road trip', 1), ('burdened', 1), ('took a bath ', 1), ('ice cream', 1), ('driving', 1), ('Sore back', 1), ('Went to concert', 1), ('med checkin broken', 1), ('Sunburn', 1), ('windsurfing', 1), ('brain weird stuff', 1), ('Work', 1), ('forgive', 1), ('clear headed', 1), ('read a book', 1), ('mmj', 1), ('cough', 1), ('infusion day', 1), ('Very low appetite', 1), ('coming down with cold', 1), ('sun exposure', 1), ('lots of bending over', 1), ('Fried fish', 1), ('Busy work day', 1), ('body feeling good', 1), ('pms', 1), ('ate pizza', 1), ('liquid diet', 1), ('relieved', 1), ('hotel', 1), ('Very gassy', 1), ('mostly ok', 1), ('burlesque', 1), ('meh day', 1), ('one glass of wine', 1), ('wasted', 1), ('bike ride', 1), ('nightshades', 1), ('scrapbooking', 1), ('Exhausted', 1), ('walked dog', 1), ('french fries', 1), ('moveon', 1), ('atetonkatsu', 1), ('overexerted', 1), ('one beer', 1), ('forgot to enter', 1), ('Suuuuper urgent bathroom trip after 6PM', 1), ('day off', 1), ('sad', 1), ('cleaned', 1), ('sas', 1), ('couch potato', 1), ('Feeling good overall lately', 1), ('benchpress', 1), ('IViG', 1), ('ritalin comedown', 1), ('early morning', 1), ('eggs', 1), ('treated myself ', 1), ('No crying', 1), ('exercised', 1), ('London trip', 1), ('went to bed too late', 1), ('train into downtown', 1), ('Fried food', 1), ('Lots of driving', 1), ('eye fatigue', 1), ('Infusion ', 1), ('doctors', 1), ('scattered', 1), ('caffeine', 1), ('slimfast only', 1), ('fresh strawberries', 1), ('saw a movie', 1), ('skipped strattera', 1), ('unhappy', 1), ('Excited about weekend', 1), ('remodelling work', 1), ('Rested', 1), ('woken by alarm', 1), ('drove around ', 1), ('ate three meals', 1), ('feels', 1), ('wedding', 1), ('late night', 1), ('restart', 1), ('sore lower back', 1), ('oats', 1), ('bam', 1), ('playedbbal', 1), ('Had lots of sex last night', 1), ('dropping things', 1), ('toomuchdinner', 1), ('jojos', 1), ('Bad day', 1), ('Rain and thunder', 1), ('Shopping', 1), ('greatday', 1), ('weak', 1), ('pullups', 1), ('Lower baxk', 1), ('Hard work day', 1), ('Surgery recovery', 1), ('listen to music ', 1), ('emotional', 1), ('skipped dinner', 1), ('quiet', 1), ('allergic reaction', 1), ('Computer', 1), ('hungover cocktails last night - the Everleigh', 1), ('moved furniture', 1), ('afternoon crash', 1), ('Lots of walking', 1), ('physical therapy', 1), ('Had a few drinks at night', 1), ('asdf', 1), ('Drained', 1), ('bad cfs', 1), ('beer', 1), ('no coffee', 1), ('bbq', 1), ('rest day', 1), ('morning fatigue', 1), ('Summer day activities', 1), ('sunshine', 1), ('Better energy', 1), ('wildnweird', 1), ('sore elbows', 1), ('left work', 1), ('Painful morning', 1), ('knee pain', 1), ('studied', 1), ('left the house', 1), ('slept not alone', 1), ('trouble getting up', 1), ('Puppy', 1), ('selfimprovement', 1), ('left leg pain', 1), ('hard to sleep', 1), ('Latte', 1), ('Had to lie down at work', 1), ('went out', 1), ('departmentdinner', 1), ('went shopping', 1), ('knitting', 1), ('changed fentanyl patch', 1), ('Fighting with Nate and Elizabeth', 1), ('scope prep', 1), ('no breakfast', 1), ('Hungry', 1), ('fasting', 1), ('Crohns blockage', 1), ('rambled', 1), ('sleepy', 1), ('Hip killing', 1), ('greatdday', 1), ('It was raining', 1), ('right side migraine', 1), ('Low stress ', 1), ('moody', 1), ('cuddled kitten', 1), ('slight joint pain', 1), (\"didn't sleep\", 1), ('Wine', 1), ('Sat outside in the sun', 1), ('very ill', 1), ('Lay in bed in afternoon', 1), ('overslept', 1), (\"i don't even know\", 1), ('Ate fish & chips', 1), ('collapsible', 1), ('scared', 1), ('late sleep', 1), ('legs sore', 1), ('Walked quite a fair bit', 1), ('Period coming', 1), ('not in a rush', 1), ('worked out', 1), ('Flare', 1), ('Organic mostly', 1), ('pasta', 1), ('falaffel', 1), ('group meeting', 1), ('Achy arms', 1), ('Msat', 1), ('Been at the island', 1), ('oatmeal', 1), ('fuck this disease', 1), ('Relaxed', 1), ('blessed', 1), ('11 days sober', 1), ('chewing gum', 1), ('Trigger food', 1), ('PMS', 1), ('Body ache', 1), ('friends', 1), ('very active evening', 1), ('Went for food', 1), ('bored', 1), ('job interview', 1), ('Walked', 1), ('bad eating', 1), ('Ate a lot', 1), ('excitement', 1), ('blood work', 1), ('woke up early', 1), ('shopping', 1), ('lots of stairs', 1), ('skipped ADD meds', 1), ('Tv', 1), ('very bad sleep', 1), ('mostly happy', 1), ('Very long day', 1), ('one IPA', 1), ('springishere', 1), ('coconut', 1), ('Good day', 1), ('fizzy drink', 1), ('nap', 1), ('nice', 1), ('monday', 1), ('rested', 1), ('finals', 1), ('exhausting', 1), ('thai food', 1), ('alright', 1), ('just blah', 1), ('stayed up late', 1)]\n",
      "38.0530973451 percent of users with Crohn's report being tired\n",
      "23.8938053097 percent of users with Crohn's report being stressed\n"
     ]
    }
   ],
   "source": [
    "crohns_treatments = set(crohns_df[crohns_df['trackable_type'] == 'Tag']['trackable_name'])\n",
    "crohns_df['treatment_count'] = crohns_df[crohns_df['trackable_type'] == 'Tag'].groupby('user_id')['trackable_name'].transform('count')\n",
    "print \"distinct tags : \" + str(len(crohns_treatments))\n",
    "treatment_counts = {}\n",
    "for treatment in crohns_treatments:\n",
    "    treat_df = crohns_df[crohns_df['trackable_name'] == treatment]\n",
    "    treatment_counts[treatment] = len(treat_df.groupby('user_id'))\n",
    "print \"\"\n",
    "print \"number of users using each tag\"\n",
    "import operator \n",
    "sorted_treatments = sorted(treatment_counts.items(), key=operator.itemgetter(1), reverse=True)\n",
    "print sorted_treatments\n",
    "\n",
    "print str(treatment_counts['tired'] / 113.0 * 100.0) + \" percent of users with Crohn's report being tired\"\n",
    "print str(treatment_counts['stressed'] / 113.0 * 100.0) + \" percent of users with Crohn's report being stressed\""
   ]
  },
  {
   "cell_type": "code",
   "execution_count": 58,
   "metadata": {
    "collapsed": false
   },
   "outputs": [
    {
     "name": "stdout",
     "output_type": "stream",
     "text": [
      "distinct concurrent conditions : 85\n",
      "\n",
      "number of users reporting condition\n",
      "[(\"Crohn's disease\", 113), ('Abdominal pain', 42), ('Fatigue', 37), ('Anxiety', 22), ('Depression', 16), ('Anemia', 11), ('Migraine', 10), ('Back pain', 10), ('GERD', 8), ('Chronic fatigue syndrome', 6), ('Fibromyalgia', 5), ('Ankylosing spondylitis', 5), ('Insomnia', 5), ('skin rashes', 4), ('Psoriasis', 4), ('Rheumatoid arthritis', 4), ('Ehlers-Danlos syndrome', 4), ('Arthritis', 3), ('Panic', 3), ('Generalized anxiety disorder', 3), ('Endometriosis', 3), ('Allergies', 2), ('Systemic mastocytosis', 2), ('joint pain', 2), ('Urinary Pain', 2), ('fibromyalgia ', 2), ('ADHD', 2), ('adrenal fatigue', 2), ('Adult ADHD', 2), ('Common cold', 2), ('Chronic Migraines', 2), ('Sleep disorders', 2), ('Sacroiliitis', 2), ('POTS', 2), ('Eczema', 2), ('Asthma', 1), ('Orthostatic hypotension (postural hypotension)', 1), ('Irritable bowel syndrome', 1), ('Acne', 1), ('Mast Cell Activation Syndrome', 1), ('Bile Acid Malabsorption', 1), ('Ulcerative colitis', 1), ('chronic daily headache', 1), ('Obsessive-compulsive disorder', 1), ('Phobias', 1), ('Hay fever', 1), ('upper body sweating', 1), ('Chronic Pain', 1), ('IBS', 1), ('Rectovaginal fistula', 1), ('Osteoarthritis', 1), ('arthrtis', 1), ('Menopause', 1), ('Urinary Frequency', 1), ('Tendinitis', 1), ('Spastic legs', 1), ('Bipolar disorder', 1), ('Urinary Urgency', 1), ('Premature ventricular contractions', 1), ('Lupus', 1), ('Sickle cell anemia', 1), ('delayed sleep phase disorder', 1), ('Reflux', 1), ('Degenerative Disc Disease', 1), ('Psoriatic arthritis', 1), ('MCAS', 1), ('Juvenile rheumatoid arthritis', 1), ('C-PTSD', 1), ('Urinary incontinence', 1), ('Snoring', 1), ('First degree hemorrhoids', 1), ('Adult ADD', 1), ('hypersomnia', 1), ('Esophageal hernia', 1), ('Menstrual pain', 1), ('PTSD', 1), ('Celiac disease', 1), ('Myalgic encephalomyelitis', 1), ('Atypical chest pain', 1), ('Osteitis Pubis', 1), ('Chronic daily headaches', 1), ('synesthesia', 1), ('vertigo', 1), ('CFS', 1), ('aspergers', 1)]\n",
      "\n",
      "37.1681415929 percent of users with Crohn's also report Abdominal Pain\n",
      "32.7433628319 percent of users with Crohn's also report Fatigue\n",
      "19.4690265487 percent of users with Crohn's also report Anxiety\n",
      "14.1592920354 percent of users with Crohn's also report Depression\n",
      "9.73451327434 percent of users with Crohn's also report Anemia\n"
     ]
    }
   ],
   "source": [
    "crohns_treatments = set(crohns_df[crohns_df['trackable_type'] == 'Condition']['trackable_name'])\n",
    "crohns_df['treatment_count'] = crohns_df[crohns_df['trackable_type'] == 'Condition'].groupby('user_id')['trackable_name'].transform('count')\n",
    "print \"distinct concurrent conditions : \" + str(len(crohns_treatments))\n",
    "treatment_counts = {}\n",
    "for treatment in crohns_treatments:\n",
    "    treat_df = crohns_df[crohns_df['trackable_name'] == treatment]\n",
    "    treatment_counts[treatment] = len(treat_df.groupby('user_id'))\n",
    "print \"\"\n",
    "print \"number of users reporting condition\"\n",
    "import operator \n",
    "sorted_treatments = sorted(treatment_counts.items(), key=operator.itemgetter(1), reverse=True)\n",
    "print sorted_treatments\n",
    "print \"\"\n",
    "print str(treatment_counts['Abdominal pain'] / 113.0 * 100.0) + \" percent of users with Crohn's also report Abdominal Pain\"\n",
    "print str(treatment_counts['Fatigue'] / 113.0 * 100.0) + \" percent of users with Crohn's also report Fatigue\"\n",
    "print str(treatment_counts['Anxiety'] / 113.0 * 100.0) + \" percent of users with Crohn's also report Anxiety\"\n",
    "print str(treatment_counts['Depression'] / 113.0 * 100.0) + \" percent of users with Crohn's also report Depression\"\n",
    "print str(treatment_counts['Anemia'] / 113.0 * 100.0) + \" percent of users with Crohn's also report Anemia\""
   ]
  },
  {
   "cell_type": "code",
   "execution_count": 52,
   "metadata": {
    "collapsed": false
   },
   "outputs": [
    {
     "data": {
      "text/plain": [
       "[<matplotlib.lines.Line2D at 0x114021990>]"
      ]
     },
     "execution_count": 52,
     "metadata": {},
     "output_type": "execute_result"
    },
    {
     "data": {
      "image/png": "[encoded data removed]",
      "text/plain": [
       "<matplotlib.figure.Figure at 0x1069b7210>"
      ]
     },
     "metadata": {},
     "output_type": "display_data"
    }
   ],
   "source": [
    "import matplotlib.pyplot as plt\n",
    "dates = list(set(crohns_df['checkin_date']))\n",
    "dates.sort()\n",
    "mean_ratings = []\n",
    "for date in dates:\n",
    "    date_df = crohns_df[crohns_df['checkin_date'] == date]\n",
    "    ratings = pd.to_numeric(date_df[date_df['trackable_name'] == 'Crohn\\'s disease']['trackable_value'])\n",
    "    mean_ratings.append(ratings.values.mean())\n",
    "plt.plot(dates,mean_ratings)"
   ]
  },
  {
   "cell_type": "markdown",
   "metadata": {},
   "source": [
    "I wouldn't say that this graph is very informative for the time being.  Would be interesting to take a look again after this winter though, as it looks more consistently high in that September to January range.  Could just be a different person reporting during that time though."
   ]
  },
  {
   "cell_type": "code",
   "execution_count": 82,
   "metadata": {
    "collapsed": false
   },
   "outputs": [
    {
     "name": "stdout",
     "output_type": "stream",
     "text": [
      "     user_id   age     sex country        condition        treatment  \\\n",
      "319    459.0   NaN  female      US  Crohn's disease           Bentyl   \n",
      "320    459.0   NaN  female      US  Crohn's disease  Calcium citrate   \n",
      "321    459.0   NaN  female      US  Crohn's disease        Vitamin d   \n",
      "342    461.0  38.0    male      US  Crohn's disease           Bentyl   \n",
      "343    461.0  38.0    male      US  Crohn's disease  Calcium citrate   \n",
      "\n",
      "     before_value  after_value  effectiveness  \n",
      "319      1.875000     1.000000       0.875000  \n",
      "320      1.736842     1.000000       0.736842  \n",
      "321      1.736842     1.000000       0.736842  \n",
      "342      1.823529     1.454545       0.368984  \n",
      "343      1.700000     1.625000       0.075000  \n"
     ]
    }
   ],
   "source": [
    "df = pd.read_csv(\"effectiveness_treatments.csv\")\n",
    "crohns_df = df[(df['condition'] == 'Crohn\\'s disease') | (df['condition'] == 'Crohn\\'s') ]\n",
    "crohns_df = crohns_df[np.isfinite(df['effectiveness'])]\n",
    "print crohns_df.head()"
   ]
  },
  {
   "cell_type": "code",
   "execution_count": 83,
   "metadata": {
    "collapsed": false
   },
   "outputs": [
    {
     "name": "stdout",
     "output_type": "stream",
     "text": [
      "the treatments that our users have had the most success with : \n",
      "[('Folic acid', 1.26729559748), ('Methotrexate', 1.1818181818200002), ('Bentyl', 0.62199197860950006), ('Colesevelam', 0.45850815850800003), ('Vitamin d', 0.40592105263149997), ('Calcium citrate', 0.40592105263149997), ('Mediterranean Diet', 0.292929292929), ('Placebo', 0.19624060150400002), ('Fexofenadine', 0.18199233716499999), ('Carbomer eye drops', 0.16554054054099998), ('Cetraben cream', 0.16554054054099998), ('thyroid support complex', 0.12121212121200001), ('methotraxate', 0.055555555555600003), ('Questran', 0.0029761904764999819), ('Modulen', -0.084232002331699987), ('Aga', -0.22600619194999999), ('Tacrolimus', -0.22600619194999999), ('Biest', -0.26666666666700001), ('My Goodness Organics meals', -0.26666666666700001), ('Vitamin C', -0.28042328042300002), ('Ritalin', -0.35887988209299998), ('Solifenacin', -0.35887988209299998), ('Feverfew', -0.35887988209299998), ('Probiotic', -0.35887988209299998), ('Passionflower', -0.35887988209299998), ('Vitamin b12', -0.35887988209299998), ('Cerelle', -0.35887988209299998), ('Cyclizine', -0.39649122806999998), ('MMJ', -0.40000000000000002), ('Calcium Suplment', -0.54545454545500005), ('alverine', -0.64460784313699993), ('Flo-pred', -0.65714285714300003), ('Peppermint oil', -0.70370370370399993)]\n"
     ]
    }
   ],
   "source": [
    "treatments = set(crohns_df['treatment'])\n",
    "mean_effects = {}\n",
    "for treatment in treatments:\n",
    "    treat_df = crohns_df[crohns_df['treatment'] == treatment]\n",
    "    mean_effects[treatment] = treat_df['effectiveness'].values.mean()\n",
    "\n",
    "print \"the treatments that our users have had the most success with : \"\n",
    "sorted_treatments = sorted(mean_effects.items(), key=operator.itemgetter(1), reverse=True)\n",
    "print sorted_treatments"
   ]
  },
  {
   "cell_type": "markdown",
   "metadata": {},
   "source": [
    "Positive numbers above mean the user reported less severe symptoms while on the treatment.  Negative numbers mean their symptoms were worse.  But keep in mind that users might be trying more supplements and such during flare-ups which could give an overly negative view of some of these treatments.\n",
    "\n",
    "Also sample sizes for some of these associations are often very small."
   ]
  },
  {
   "cell_type": "code",
   "execution_count": 4,
   "metadata": {
    "collapsed": false
   },
   "outputs": [
    {
     "name": "stdout",
     "output_type": "stream",
     "text": [
      "distinct symptoms : 247\n",
      "\n",
      "number of users reporting each symptom\n",
      "[('Diarrhea', 44), ('Abdominal pain', 42), ('Fatigue', 37), ('Stomach Pain', 28), ('Joint pain', 23), ('Anxiety', 22), ('Nausea', 22), ('Depression', 16), ('Headache', 13), ('Stomach cramps', 13), ('Constipation', 13), ('Anemia', 11), ('Back pain', 10), ('Migraine', 10), ('Bloating', 10), ('bowel movements', 10), ('Gas', 9), ('Rectal bleeding', 9), ('Fatigue and tiredness', 9), ('Dizziness', 7), ('Vomiting', 6), ('Anhedonia', 6), ('Crying', 6), ('Pain', 6), ('afternoon sleepiness', 5), ('Insomnia', 5), ('loose stool', 5), ('Agitation', 5), ('skin rashes', 4), ('Bowel Urgency', 4), ('Mucus', 4), ('Dull', 4), ('Muscle pain', 4), ('Joint stiffness', 4), ('Leg pain', 3), ('Bloody Stools', 3), ('Rash', 3), ('Panic', 3), ('Mood swings', 3), ('Acid Reflux', 3), ('Chronic pain', 3), ('Anal itching', 3), ('Weight loss', 3), ('Tingling in hand', 3), ('Night sweats', 3), ('Ankle pain', 3), ('Knee pain', 3), ('Mucus in stool', 3), ('Heartburn', 3), ('Cold', 3), ('Loss of appetite', 3), ('pre-syncope ', 3), ('Fever', 3), ('Stiffness', 3), ('Vaginal bleeding', 2), ('Unrefreshing Sleep', 2), ('appetite', 2), ('Cold hands', 2), ('Brain fog', 2), ('acne', 2), ('Chest pain', 2), ('Mouth sores', 2), ('sleepiness', 2), ('Body aching', 2), ('Ringing in ears', 2), ('Digestive distress', 2), ('Suicidal ideation', 2), ('Foot pain', 2), ('Dry mouth', 2), ('Dry eye', 2), ('Heart Rate', 2), ('Low appetite', 2), ('blood in stool', 2), ('Cough', 2), ('Fecal incontinence', 2), ('Sore throat', 2), ('Joint swelling', 2), ('Hands Numb', 2), ('Body pain', 2), ('Weight', 2), ('Grumpies', 2), ('Dehydration', 2), ('Eczema', 2), ('dislocations', 2), ('Inflammation', 2), ('exhaustion', 2), ('slowness of walking', 2), ('Blisters', 2), ('Hip pain', 2), ('Sensory overload', 2), ('Self Harm', 2), ('Diarrhoea', 2), ('Frequent urination', 2), ('Low back pain', 2), ('test', 2), ('muscle soreness', 2), ('Distended stomach', 2), ('Fatigue ', 2), ('Gastric Pain', 1), ('thumb pain', 1), ('Upset stomach', 1), ('Altered mental status', 1), ('sudden urges', 1), ('Fluctuating Weight', 1), ('Tremoring', 1), ('sleep deprivation', 1), ('TMJ pain', 1), ('anal inflamation', 1), ('Distorted time sense', 1), ('Metallic taste in the mouth', 1), ('Migraine aura or prodrome', 1), ('Decreased appetite', 1), ('Stiff neck', 1), ('Esophageal Pain', 1), ('Tremor', 1), ('Disorganized Speech', 1), ('Desire to eat sugar', 1), ('Hand pain', 1), ('lightheadedness', 1), ('Swollen joints', 1), ('Vulvodynia', 1), ('Supraventricular Tachycardia', 1), ('Allergic dermatitis', 1), ('Mobility', 1), ('Fistula', 1), ('Onychophosis', 1), ('Cold feet', 1), ('FBGL', 1), ('Sleep Quality', 1), ('Anaphylaxis', 1), ('Flat affect', 1), ('pelvic floor muscle spasm', 1), ('Worry', 1), ('Cramps', 1), ('Seton Drain', 1), ('Runny nose', 1), ('Humor', 1), ('migraine pain', 1), ('back muscle spasm', 1), ('Tachycardia', 1), ('high blood pressure', 1), ('Oversleeping', 1), ('Itchy skin', 1), ('Muscle spasms', 1), ('Sex drive', 1), ('stigmastis', 1), ('Feet cramps', 1), ('Sleep Length', 1), ('Nighttime dyspepsia', 1), ('loose', 1), ('Meteorism', 1), ('Stool color & texture changes', 1), ('mood', 1), ('Calm', 1), ('vivid dreams', 1), ('Anal soreness', 1), ('iron deficency', 1), ('Good poo', 1), ('Sperm Color', 1), ('Mental fog', 1), ('Sun burn', 1), ('Sleeplessness', 1), ('Gastrointestinal symptoms', 1), ('Joint weakness', 1), ('Angioedema', 1), ('Dry skin', 1), ('Craving red meat', 1), ('Lung Pain', 1), ('overall pain levels', 1), ('Urinary Incontinence', 1), ('itching face', 1), ('Temperature', 1), ('chilly finger', 1), ('Pelvic pain', 1), ('Falling asleep', 1), ('bad breathing', 1), ('Flushing', 1), ('Teary', 1), ('Nauseau', 1), ('Mental fatigue', 1), ('Upper back pain', 1), ('Itch', 1), ('Arm joint pain', 1), ('Healthy sleep', 1), ('nutrient deficiency', 1), ('Restlessness', 1), ('Lack of Motivation', 1), ('Feeling Full', 1), ('Pain after evacuation', 1), ('Limb pain', 1), ('Head Pain', 1), ('Flaky scalp', 1), ('Shaking', 1), ('Tension headache', 1), ('Painful evacuation', 1), ('Passing Blood', 1), ('soreness', 1), ('Bone pain', 1), ('Increased appetite', 1), ('hand stiffness', 1), ('Groin pain', 1), ('Fluctuating mood', 1), ('Low libido', 1), ('Lower Back Pain', 1), ('Interest', 1), ('Stress', 1), ('Arm pain', 1), ('itchy privates', 1), ('drain blockage', 1), ('Joint cracking', 1), ('Shoulder pain', 1), ('Overactive bladder', 1), ('Urinary urgency', 1), ('Eye pain', 1), ('achilles tendon pain', 1), ('Period Pain', 1), ('Craving salty food', 1), ('Weakness', 1), ('Chills', 1), ('swelling', 1), ('itchy', 1), ('undigested food', 1), ('Dreams', 1), ('itchy eyes', 1), ('hot flush', 1), ('Tiredness', 1), ('Hemorrhoid', 1), ('Self-Loathing', 1), ('Overheating', 1), ('left knee pain', 1), ('Wrist pain', 1), ('blood', 1), ('hyperfocus', 1), ('Neck pain', 1), ('physical fatigue', 1), ('Hearing loss', 1), ('Allergy', 1), ('Elbow pain', 1), ('Altered Sleep Schedule', 1), ('Stomach hardness ', 1), ('urgency', 1), ('Intestinal pain', 1), ('Subluxation', 1), ('Bleeding gums', 1), ('easy to anger', 1), ('Difficulty concentrating', 1), ('Headaches', 1)]\n"
     ]
    }
   ],
   "source": [
    "crohns_treatments = set(crohns_df[crohns_df['trackable_type'] == 'Symptom']['trackable_name'])\n",
    "crohns_df['treatment_count'] = crohns_df[crohns_df['trackable_type'] == 'Symptom'].groupby('user_id')['trackable_name'].transform('count')\n",
    "print \"distinct symptoms : \" + str(len(crohns_treatments))\n",
    "treatment_counts = {}\n",
    "for treatment in crohns_treatments:\n",
    "    treat_df = crohns_df[crohns_df['trackable_name'] == treatment]\n",
    "    treatment_counts[treatment] = len(treat_df.groupby('user_id'))\n",
    "print \"\"\n",
    "print \"number of users reporting each symptom\"\n",
    "import operator \n",
    "sorted_treatments = sorted(treatment_counts.items(), key=operator.itemgetter(1), reverse=True)\n",
    "print sorted_treatments"
   ]
  },
  {
   "cell_type": "code",
   "execution_count": 9,
   "metadata": {
    "collapsed": false
   },
   "outputs": [
    {
     "name": "stdout",
     "output_type": "stream",
     "text": [
      "specificity of each symptom to crohns (the percentage of users reporting this symptom that suffer from crohns)\n",
      "[('Gastric Pain', 100.0), ('thumb pain', 100.0), ('sleep deprivation', 100.0), ('anal inflamation', 100.0), ('Seton Drain', 100.0), ('back muscle spasm', 100.0), ('Stool color & texture changes', 100.0), ('Anal soreness', 100.0), ('iron deficency', 100.0), ('Good poo', 100.0), ('Sun burn', 100.0), ('Craving red meat', 100.0), ('overall pain levels', 100.0), ('chilly finger', 100.0), ('nutrient deficiency', 100.0), ('itchy privates', 100.0), ('achilles tendon pain', 100.0), ('Craving salty food', 100.0), ('urgency', 100.0), ('Body pain', 66.66666666666666), ('Fluctuating Weight', 50.0), ('Tremoring', 50.0), ('TMJ pain', 50.0), ('Supraventricular Tachycardia', 50.0), ('Mobility', 50.0), ('FBGL', 50.0), ('Meteorism', 50.0), ('Sperm Color', 50.0), ('Pain after evacuation', 50.0), ('Limb pain', 50.0), ('Blisters', 50.0), ('Groin pain', 50.0), ('Interest', 50.0), ('Diarrhoea', 50.0), ('Stomach hardness ', 50.0), ('slowness of walking', 40.0), ('Rectal bleeding', 37.5), ('loose stool', 35.714285714285715), ('sudden urges', 33.33333333333333), ('pelvic floor muscle spasm', 33.33333333333333), ('Humor', 33.33333333333333), ('migraine pain', 33.33333333333333), ('Fecal incontinence', 33.33333333333333), ('Feet cramps', 33.33333333333333), ('Mental fog', 33.33333333333333), ('Falling asleep', 33.33333333333333), ('bad breathing', 33.33333333333333), ('Arm joint pain', 33.33333333333333), ('Painful evacuation', 33.33333333333333), ('soreness', 33.33333333333333), ('hot flush', 33.33333333333333), ('blood', 33.33333333333333), ('easy to anger', 33.33333333333333), ('Panic', 30.0), ('Anal itching', 30.0), ('Vaginal bleeding', 28.57142857142857), ('Hands Numb', 28.57142857142857), ('Anemia', 27.500000000000004), ('Metallic taste in the mouth', 25.0), ('Desire to eat sugar', 25.0), ('Mucus', 25.0), ('Fistula', 25.0), ('blood in stool', 25.0), ('Sex drive', 25.0), ('stigmastis', 25.0), ('loose', 25.0), ('Grumpies', 25.0), ('Healthy sleep', 25.0), ('Passing Blood', 25.0), ('test', 25.0), ('undigested food', 25.0), ('hyperfocus', 25.0), ('Bleeding gums', 25.0), ('bowel movements', 23.25581395348837), ('Mucus in stool', 23.076923076923077), ('Agitation', 20.833333333333336), ('appetite', 20.0), ('Bowel Urgency', 20.0), ('Anaphylaxis', 20.0), ('Flat affect', 20.0), ('Weight', 20.0), ('Angioedema', 20.0), ('Nauseau', 20.0), ('Flaky scalp', 20.0), ('Tingling in hand', 18.75), ('Migraine aura or prodrome', 16.666666666666664), ('Allergic dermatitis', 16.666666666666664), ('Dehydration', 16.666666666666664), ('Feeling Full', 16.666666666666664), ('Low back pain', 16.666666666666664), ('Dreams', 16.666666666666664), ('Stomach cramps', 15.853658536585366), ('Distended stomach', 15.384615384615385), ('Abdominal pain', 14.840989399293287), ('skin rashes', 14.814814814814813), ('Distorted time sense', 14.285714285714285), ('Temperature', 14.285714285714285), ('Teary', 14.285714285714285), ('Night sweats', 14.285714285714285), ('drain blockage', 14.285714285714285), ('pre-syncope ', 14.285714285714285), ('Diarrhea', 13.496932515337424), ('muscle soreness', 13.333333333333334), ('Weight loss', 13.043478260869565), ('Disorganized Speech', 12.5), ('Vulvodynia', 12.5), ('Sleep Quality', 12.5), ('vivid dreams', 12.5), ('Urinary Incontinence', 12.5), ('Itch', 12.5), ('Period Pain', 12.5), ('Bloody Stools', 12.0), ('Cold', 12.0), ('Low appetite', 11.76470588235294), ('Frequent urination', 11.11111111111111), ('Gas', 10.843373493975903), ('Upset stomach', 10.0), ('Esophageal Pain', 10.0), ('Nighttime dyspepsia', 10.0), ('Inflammation', 10.0), ('Sensory overload', 10.0), ('hand stiffness', 10.0), ('Fluctuating mood', 10.0), ('left knee pain', 10.0), ('Vomiting', 9.090909090909092), ('afternoon sleepiness', 9.090909090909092), ('Ringing in ears', 9.090909090909092), ('Worry', 9.090909090909092), ('Overactive bladder', 9.090909090909092), ('Self-Loathing', 9.090909090909092), ('Hearing loss', 9.090909090909092), ('Crying', 8.955223880597014), ('Bloating', 8.771929824561402), ('Mouth sores', 8.695652173913043), ('Suicidal ideation', 8.695652173913043), ('Joint stiffness', 8.695652173913043), ('Digestive distress', 8.333333333333332), ('itchy eyes', 8.333333333333332), ('Hemorrhoid', 8.333333333333332), ('Rash', 8.108108108108109), ('Heart Rate', 8.0), ('Cold hands', 7.6923076923076925), ('Swollen joints', 7.6923076923076925), ('Sleep Length', 7.6923076923076925), ('high blood pressure', 7.142857142857142), ('Joint swelling', 7.142857142857142), ('Lung Pain', 7.142857142857142), ('Shaking', 7.142857142857142), ('Chills', 7.142857142857142), ('Unrefreshing Sleep', 6.896551724137931), ('Stomach Pain', 6.71462829736211), ('Low libido', 6.666666666666667), ('Constipation', 6.532663316582915), ('Heartburn', 6.521739130434782), ('Loss of appetite', 6.521739130434782), ('acne', 6.451612903225806), ('Cough', 6.451612903225806), ('dislocations', 6.451612903225806), ('Fever', 6.382978723404255), ('Decreased appetite', 6.25), ('Onychophosis', 6.25), ('mood', 6.25), ('Joint weakness', 6.25), ('exhaustion', 6.25), ('Urinary urgency', 6.25), ('Nausea', 6.077348066298343), ('Anhedonia', 6.0606060606060606), ('Fatigue and tiredness', 6.0), ('Runny nose', 5.88235294117647), ('Flushing', 5.88235294117647), ('Restlessness', 5.88235294117647), ('Joint pain', 5.83756345177665), ('Ankle pain', 5.660377358490567), ('Bone pain', 5.555555555555555), ('Altered Sleep Schedule', 5.555555555555555), ('Stiffness', 5.263157894736842), ('Self Harm', 5.128205128205128), ('Acid Reflux', 5.084745762711865), ('Fatigue', 5.040871934604905), ('Itchy skin', 5.0), ('Head Pain', 5.0), ('Joint cracking', 5.0), ('swelling', 5.0), ('Dry mouth', 4.878048780487805), ('Overheating', 4.761904761904762), ('Fatigue ', 4.761904761904762), ('Sleeplessness', 4.545454545454546), ('Eczema', 4.545454545454546), ('Lack of Motivation', 4.545454545454546), ('Mood swings', 4.411764705882353), ('Tension headache', 4.3478260869565215), ('physical fatigue', 4.3478260869565215), ('Subluxation', 4.3478260869565215), ('Intestinal pain', 4.166666666666666), ('Sore throat', 4.081632653061225), ('Pain', 4.026845637583892), ('Cold feet', 4.0), ('Gastrointestinal symptoms', 4.0), ('itching face', 4.0), ('Increased appetite', 4.0), ('Tiredness', 4.0), ('Dry eye', 3.9215686274509802), ('Anxiety', 3.7351443123938877), ('Tremor', 3.571428571428571), ('Migraine', 3.484320557491289), ('Leg pain', 3.4482758620689653), ('Upper back pain', 3.4482758620689653), ('Calm', 3.3333333333333335), ('Back pain', 3.3112582781456954), ('Dull', 3.3057851239669422), ('sleepiness', 3.278688524590164), ('Chronic pain', 3.125), ('Elbow pain', 3.125), ('Dizziness', 3.0837004405286343), ('Cramps', 3.0303030303030303), ('Pelvic pain', 3.0303030303030303), ('itchy', 3.0303030303030303), ('Stiff neck', 2.941176470588235), ('Foot pain', 2.941176470588235), ('Depression', 2.9250457038391224), ('Eye pain', 2.7027027027027026), ('Altered mental status', 2.631578947368421), ('Headache', 2.5193798449612403), ('Dry skin', 2.5), ('Body aching', 2.4390243902439024), ('Muscle pain', 2.4096385542168677), ('Oversleeping', 2.380952380952381), ('Mental fatigue', 2.3255813953488373), ('Insomnia', 2.262443438914027), ('Knee pain', 2.1739130434782608), ('Stress', 2.1739130434782608), ('Arm pain', 2.1739130434782608), ('lightheadedness', 2.083333333333333), ('Allergy', 2.0408163265306123), ('Wrist pain', 1.9607843137254901), ('Tachycardia', 1.9230769230769231), ('Muscle spasms', 1.8867924528301887), ('Weakness', 1.8518518518518516), ('Difficulty concentrating', 1.639344262295082), ('Hip pain', 1.6260162601626018), ('Chest pain', 1.5037593984962405), ('Hand pain', 1.4705882352941175), ('Lower Back Pain', 1.4492753623188406), ('Headaches', 1.098901098901099), ('Brain fog', 0.796812749003984), ('Shoulder pain', 0.7633587786259541), ('Neck pain', 0.49504950495049505)]\n",
      "\n",
      "normalized symptom count (the number of crohns users suffering from this condition, multiplied by how specific to crohns it is)\n",
      "[('Abdominal pain', 6.23321554770318), ('Diarrhea', 5.938650306748466), ('Rectal bleeding', 3.375), ('Anemia', 3.0250000000000004), ('bowel movements', 2.3255813953488373), ('Stomach cramps', 2.0609756097560976), ('Stomach Pain', 1.8800959232613907), ('Fatigue', 1.8651226158038148), ('loose stool', 1.7857142857142858), ('Joint pain', 1.3426395939086295), ('Nausea', 1.3370165745856353), ('Body pain', 1.3333333333333333), ('Agitation', 1.0416666666666667), ('Gastric Pain', 1.0), ('thumb pain', 1.0), ('sleep deprivation', 1.0), ('anal inflamation', 1.0), ('Mucus', 1.0), ('Seton Drain', 1.0), ('back muscle spasm', 1.0), ('Stool color & texture changes', 1.0), ('Anal soreness', 1.0), ('iron deficency', 1.0), ('Good poo', 1.0), ('Sun burn', 1.0), ('Craving red meat', 1.0), ('overall pain levels', 1.0), ('chilly finger', 1.0), ('nutrient deficiency', 1.0), ('Blisters', 1.0), ('Diarrhoea', 1.0), ('itchy privates', 1.0), ('achilles tendon pain', 1.0), ('Craving salty food', 1.0), ('urgency', 1.0), ('Gas', 0.9759036144578314), ('Panic', 0.8999999999999999), ('Anal itching', 0.8999999999999999), ('Bloating', 0.8771929824561403), ('Constipation', 0.8492462311557789), ('Anxiety', 0.8217317487266553), ('Bowel Urgency', 0.8), ('slowness of walking', 0.8), ('Mucus in stool', 0.6923076923076923), ('Fecal incontinence', 0.6666666666666666), ('skin rashes', 0.5925925925925926), ('Vaginal bleeding', 0.5714285714285714), ('Hands Numb', 0.5714285714285714), ('Tingling in hand', 0.5625), ('Vomiting', 0.5454545454545454), ('Fatigue and tiredness', 0.54), ('Crying', 0.5373134328358209), ('Fluctuating Weight', 0.5), ('Tremoring', 0.5), ('TMJ pain', 0.5), ('Supraventricular Tachycardia', 0.5), ('Mobility', 0.5), ('FBGL', 0.5), ('blood in stool', 0.5), ('Meteorism', 0.5), ('Sperm Color', 0.5), ('Grumpies', 0.5), ('Pain after evacuation', 0.5), ('Limb pain', 0.5), ('Groin pain', 0.5), ('Interest', 0.5), ('test', 0.5), ('Stomach hardness ', 0.5), ('Depression', 0.4680073126142596), ('afternoon sleepiness', 0.4545454545454546), ('Night sweats', 0.42857142857142855), ('pre-syncope ', 0.42857142857142855), ('appetite', 0.4), ('Weight', 0.4), ('Weight loss', 0.3913043478260869), ('Anhedonia', 0.36363636363636365), ('Bloody Stools', 0.36), ('Cold', 0.36), ('Migraine', 0.3484320557491289), ('Joint stiffness', 0.34782608695652173), ('sudden urges', 0.3333333333333333), ('pelvic floor muscle spasm', 0.3333333333333333), ('Humor', 0.3333333333333333), ('migraine pain', 0.3333333333333333), ('Feet cramps', 0.3333333333333333), ('Mental fog', 0.3333333333333333), ('Dehydration', 0.3333333333333333), ('Falling asleep', 0.3333333333333333), ('bad breathing', 0.3333333333333333), ('Arm joint pain', 0.3333333333333333), ('Painful evacuation', 0.3333333333333333), ('soreness', 0.3333333333333333), ('Low back pain', 0.3333333333333333), ('hot flush', 0.3333333333333333), ('blood', 0.3333333333333333), ('easy to anger', 0.3333333333333333), ('Back pain', 0.33112582781456956), ('Headache', 0.3275193798449612), ('Distended stomach', 0.3076923076923077), ('muscle soreness', 0.26666666666666666), ('Metallic taste in the mouth', 0.25), ('Desire to eat sugar', 0.25), ('Fistula', 0.25), ('Sex drive', 0.25), ('stigmastis', 0.25), ('loose', 0.25), ('Healthy sleep', 0.25), ('Passing Blood', 0.25), ('undigested food', 0.25), ('hyperfocus', 0.25), ('Bleeding gums', 0.25), ('Rash', 0.24324324324324326), ('Pain', 0.24161073825503354), ('Low appetite', 0.23529411764705882), ('Frequent urination', 0.2222222222222222), ('Dizziness', 0.21585903083700442), ('Anaphylaxis', 0.2), ('Flat affect', 0.2), ('Angioedema', 0.2), ('Inflammation', 0.2), ('Nauseau', 0.2), ('Flaky scalp', 0.2), ('Sensory overload', 0.2), ('Heartburn', 0.19565217391304346), ('Loss of appetite', 0.19565217391304346), ('Fever', 0.19148936170212766), ('Ringing in ears', 0.18181818181818182), ('Mouth sores', 0.17391304347826086), ('Suicidal ideation', 0.17391304347826086), ('Ankle pain', 0.169811320754717), ('Migraine aura or prodrome', 0.16666666666666666), ('Digestive distress', 0.16666666666666666), ('Allergic dermatitis', 0.16666666666666666), ('Feeling Full', 0.16666666666666666), ('Dreams', 0.16666666666666666), ('Heart Rate', 0.16), ('Stiffness', 0.15789473684210525), ('Cold hands', 0.15384615384615385), ('Acid Reflux', 0.15254237288135594), ('Distorted time sense', 0.14285714285714285), ('Joint swelling', 0.14285714285714285), ('Temperature', 0.14285714285714285), ('Teary', 0.14285714285714285), ('drain blockage', 0.14285714285714285), ('Unrefreshing Sleep', 0.13793103448275862), ('Mood swings', 0.1323529411764706), ('Dull', 0.1322314049586777), ('acne', 0.12903225806451613), ('Cough', 0.12903225806451613), ('dislocations', 0.12903225806451613), ('Disorganized Speech', 0.125), ('Vulvodynia', 0.125), ('Sleep Quality', 0.125), ('vivid dreams', 0.125), ('Urinary Incontinence', 0.125), ('Itch', 0.125), ('exhaustion', 0.125), ('Period Pain', 0.125), ('Insomnia', 0.11312217194570136), ('Leg pain', 0.10344827586206896), ('Self Harm', 0.10256410256410256), ('Upset stomach', 0.1), ('Esophageal Pain', 0.1), ('Nighttime dyspepsia', 0.1), ('hand stiffness', 0.1), ('Fluctuating mood', 0.1), ('left knee pain', 0.1), ('Dry mouth', 0.0975609756097561), ('Muscle pain', 0.0963855421686747), ('Fatigue ', 0.09523809523809523), ('Chronic pain', 0.09375), ('Worry', 0.09090909090909091), ('Eczema', 0.09090909090909091), ('Overactive bladder', 0.09090909090909091), ('Self-Loathing', 0.09090909090909091), ('Hearing loss', 0.09090909090909091), ('itchy eyes', 0.08333333333333333), ('Hemorrhoid', 0.08333333333333333), ('Sore throat', 0.08163265306122448), ('Dry eye', 0.0784313725490196), ('Swollen joints', 0.07692307692307693), ('Sleep Length', 0.07692307692307693), ('high blood pressure', 0.07142857142857142), ('Lung Pain', 0.07142857142857142), ('Shaking', 0.07142857142857142), ('Chills', 0.07142857142857142), ('Low libido', 0.06666666666666667), ('sleepiness', 0.06557377049180328), ('Knee pain', 0.06521739130434782), ('Decreased appetite', 0.0625), ('Onychophosis', 0.0625), ('mood', 0.0625), ('Joint weakness', 0.0625), ('Urinary urgency', 0.0625), ('Foot pain', 0.058823529411764705), ('Runny nose', 0.058823529411764705), ('Flushing', 0.058823529411764705), ('Restlessness', 0.058823529411764705), ('Bone pain', 0.05555555555555555), ('Altered Sleep Schedule', 0.05555555555555555), ('Itchy skin', 0.05), ('Head Pain', 0.05), ('Joint cracking', 0.05), ('swelling', 0.05), ('Body aching', 0.04878048780487805), ('Overheating', 0.047619047619047616), ('Sleeplessness', 0.045454545454545456), ('Lack of Motivation', 0.045454545454545456), ('Tension headache', 0.043478260869565216), ('physical fatigue', 0.043478260869565216), ('Subluxation', 0.043478260869565216), ('Intestinal pain', 0.041666666666666664), ('Cold feet', 0.04), ('Gastrointestinal symptoms', 0.04), ('itching face', 0.04), ('Increased appetite', 0.04), ('Tiredness', 0.04), ('Tremor', 0.03571428571428571), ('Upper back pain', 0.034482758620689655), ('Calm', 0.03333333333333333), ('Hip pain', 0.032520325203252036), ('Elbow pain', 0.03125), ('Cramps', 0.030303030303030304), ('Pelvic pain', 0.030303030303030304), ('itchy', 0.030303030303030304), ('Chest pain', 0.03007518796992481), ('Stiff neck', 0.029411764705882353), ('Eye pain', 0.02702702702702703), ('Altered mental status', 0.02631578947368421), ('Dry skin', 0.025), ('Oversleeping', 0.023809523809523808), ('Mental fatigue', 0.023255813953488372), ('Stress', 0.021739130434782608), ('Arm pain', 0.021739130434782608), ('lightheadedness', 0.020833333333333332), ('Allergy', 0.02040816326530612), ('Wrist pain', 0.0196078431372549), ('Tachycardia', 0.019230769230769232), ('Muscle spasms', 0.018867924528301886), ('Weakness', 0.018518518518518517), ('Difficulty concentrating', 0.01639344262295082), ('Brain fog', 0.01593625498007968), ('Hand pain', 0.014705882352941176), ('Lower Back Pain', 0.014492753623188406), ('Headaches', 0.01098901098901099), ('Shoulder pain', 0.007633587786259542), ('Neck pain', 0.0049504950495049506)]\n"
     ]
    }
   ],
   "source": [
    "crohns_treatments = set(crohns_df[crohns_df['trackable_type'] == 'Symptom']['trackable_name'])\n",
    "treatment_counts = {}\n",
    "for treatment in crohns_treatments:\n",
    "    treat_df = crohns_df[crohns_df['trackable_name'] == treatment]\n",
    "    treat_df_whole = df[df['trackable_name'] == treatment]\n",
    "    treatment_counts[treatment] = float(len(treat_df.groupby('user_id'))) / float(len(treat_df_whole.groupby('user_id'))) * 100\n",
    "print \"specificity of each symptom to crohns (the percentage of users reporting this symptom that suffer from crohns)\"\n",
    "import operator \n",
    "sorted_treatments = sorted(treatment_counts.items(), key=operator.itemgetter(1), reverse=True)\n",
    "print sorted_treatments\n",
    "treatment_counts = {}\n",
    "for treatment in crohns_treatments:\n",
    "    treat_df = crohns_df[crohns_df['trackable_name'] == treatment]\n",
    "    treat_df_whole = df[df['trackable_name'] == treatment]\n",
    "    treatment_counts[treatment] = float(len(treat_df.groupby('user_id'))) * (float(len(treat_df.groupby('user_id'))) / float(len(treat_df_whole.groupby('user_id'))))\n",
    "    \n",
    "print \"\"\n",
    "print \"normalized symptom count (the number of crohns users suffering from this condition, multiplied by how specific to crohns it is)\"\n",
    "sorted_treatments = sorted(treatment_counts.items(), key=operator.itemgetter(1), reverse=True)\n",
    "print sorted_treatments"
   ]
  },
  {
   "cell_type": "markdown",
   "metadata": {},
   "source": [
    "## Immune Condition associations\n",
    "\n",
    "Crohn's can be considered an effect of a greater auto-immune problem.  How related is it to other auto-immune diseases?  Let's use Peer Karmaus's annotations of find which conditions might be related to Crohn's.\n",
    "\n",
    "To start I'm going to look at the whole \"Immune\" Family, which includes immunity effecting disease, as it seems plausible that some viruses could be related to auto-immune disease in some way."
   ]
  },
  {
   "cell_type": "code",
   "execution_count": 25,
   "metadata": {
    "collapsed": false
   },
   "outputs": [
    {
     "data": {
      "text/html": [
       "<div>\n",
       "<table border=\"1\" class=\"dataframe\">\n",
       "  <thead>\n",
       "    <tr style=\"text-align: right;\">\n",
       "      <th></th>\n",
       "      <th>trackable_id</th>\n",
       "      <th>Count</th>\n",
       "      <th>Condition</th>\n",
       "      <th>New Name</th>\n",
       "      <th>Family</th>\n",
       "      <th>Group</th>\n",
       "      <th>Pot. Problem</th>\n",
       "      <th>Comments</th>\n",
       "    </tr>\n",
       "  </thead>\n",
       "  <tbody>\n",
       "    <tr>\n",
       "      <th>0</th>\n",
       "      <td>163</td>\n",
       "      <td>416</td>\n",
       "      <td>Acid Reflux</td>\n",
       "      <td>Acid reflux</td>\n",
       "      <td>Physical</td>\n",
       "      <td>Enteric</td>\n",
       "      <td>NaN</td>\n",
       "      <td>NaN</td>\n",
       "    </tr>\n",
       "    <tr>\n",
       "      <th>1</th>\n",
       "      <td>651</td>\n",
       "      <td>8</td>\n",
       "      <td>Abdominal aortic aneurysm</td>\n",
       "      <td>Aortic Aneurysm</td>\n",
       "      <td>Cardiac</td>\n",
       "      <td>Blood</td>\n",
       "      <td>NaN</td>\n",
       "      <td>NaN</td>\n",
       "    </tr>\n",
       "    <tr>\n",
       "      <th>2</th>\n",
       "      <td>866</td>\n",
       "      <td>11</td>\n",
       "      <td>Abdominal Migraines</td>\n",
       "      <td>Migraine</td>\n",
       "      <td>Pain</td>\n",
       "      <td>Enteric</td>\n",
       "      <td>NaN</td>\n",
       "      <td>NaN</td>\n",
       "    </tr>\n",
       "    <tr>\n",
       "      <th>3</th>\n",
       "      <td>520</td>\n",
       "      <td>16</td>\n",
       "      <td>Abdominal pain</td>\n",
       "      <td>Pain</td>\n",
       "      <td>Physical</td>\n",
       "      <td>Pain</td>\n",
       "      <td>NaN</td>\n",
       "      <td>NaN</td>\n",
       "    </tr>\n",
       "    <tr>\n",
       "      <th>4</th>\n",
       "      <td>133</td>\n",
       "      <td>615</td>\n",
       "      <td>GERD</td>\n",
       "      <td>Acid reflux</td>\n",
       "      <td>Physical</td>\n",
       "      <td>Enteric</td>\n",
       "      <td>NaN</td>\n",
       "      <td>NaN</td>\n",
       "    </tr>\n",
       "  </tbody>\n",
       "</table>\n",
       "</div>"
      ],
      "text/plain": [
       "   trackable_id  Count                  Condition         New Name    Family  \\\n",
       "0           163    416                Acid Reflux      Acid reflux  Physical   \n",
       "1           651      8  Abdominal aortic aneurysm  Aortic Aneurysm   Cardiac   \n",
       "2           866     11        Abdominal Migraines         Migraine      Pain   \n",
       "3           520     16             Abdominal pain             Pain  Physical   \n",
       "4           133    615                       GERD      Acid reflux  Physical   \n",
       "\n",
       "     Group Pot. Problem Comments  \n",
       "0  Enteric          NaN      NaN  \n",
       "1    Blood          NaN      NaN  \n",
       "2  Enteric          NaN      NaN  \n",
       "3     Pain          NaN      NaN  \n",
       "4  Enteric          NaN      NaN  "
      ]
     },
     "execution_count": 25,
     "metadata": {},
     "output_type": "execute_result"
    }
   ],
   "source": [
    "anno_df = pd.read_csv(\"conditions_list.csv\")\n",
    "anno_df.head()"
   ]
  },
  {
   "cell_type": "code",
   "execution_count": 26,
   "metadata": {
    "collapsed": false
   },
   "outputs": [
    {
     "name": "stdout",
     "output_type": "stream",
     "text": [
      "    trackable_id  Count              Condition           New Name  Family  \\\n",
      "8            458     12    Achilles tendinitis         Tendonitis  Immune   \n",
      "9            566     12    Achilles Tendonitis         Tendonitis  Immune   \n",
      "14            90     12        Acute sinusitis          Sinusitis  Immune   \n",
      "23           746      5  Adult Still's disease      Still disease  Immune   \n",
      "27           854    109      Allergic Rhinitis  Allergic rhinitis  Immune   \n",
      "\n",
      "           Group Pot. Problem     Comments  \n",
      "8   Inflammation          NaN          NaN  \n",
      "9   Inflammation          NaN          NaN  \n",
      "14  Inflammation          NaN          NaN  \n",
      "23  Inflammation            X  Autoimmune?  \n",
      "27       Allergy          NaN          NaN  \n",
      "\n",
      "131 immune conditions\n",
      "73 distinct immune conditions\n",
      "\n",
      "set([nan, 'Cold sore', 'Allergy', 'Asthma', 'Allergies', 'IBD', 'Hepatitis', \"Hashimoto's disease\", 'Sinusitis', 'Inflammation', 'Food allergy', 'IBS', 'Strep throat', 'Hay fever', 'Chondromalacia patella', 'Rash', 'Psoriasis', 'Common variable immunodeficiency', 'Sun allergy', 'Esophagitis', 'Still disease', 'HIV', 'Epstein-Barr Virus', 'Scleroderma', 'Arthritis', 'Bursitis', 'Infection', 'Contact allergy', 'Fungus', 'Aphthous ulcers', 'Nonallergic rhinitis', 'Swollen lymph nodes', 'Mast cell activation syndrome', 'Tendinitis', 'Folliculitis', 'Colitis', 'Diabetes', 'Pet allergy', 'Tonsillitis', 'Lupus', \"Crohn's disease\", 'Seasonal allergies', 'Low WBC', 'Flu', \"Sjogren's syndrome\", 'Tendonitis', 'Fever', 'Allergic rhinitis', 'Mycoplasma pneumoniae', 'Sore throat', 'Hepatitis C', 'Uveitis', 'Staph infection', 'Costochondritis', 'Pancreatitis', 'Epstein-Barr virus', 'Lyme disease', 'Gastritis', 'Heat rash', 'Chronic sinusitis', 'PANDAS', 'Celiac disease', 'Sarcoidosis', \"Behcet's disease\", 'Allergic Rhinitis', 'Gingivitis', 'Eczema', 'Cold', 'Mononucleosis', 'CREST syndrome', 'Urticaria', 'Vasculitis', 'Osteoporosis'])\n"
     ]
    }
   ],
   "source": [
    "immune_df = anno_df[anno_df['Family'] == 'Immune']\n",
    "print immune_df.head()\n",
    "print \"\"\n",
    "print str(len(immune_df)) + \" immune conditions\"\n",
    "print str(len(set(immune_df['New Name']))) + \" distinct immune conditions\"\n",
    "print \"\"\n",
    "print set(immune_df['New Name'])"
   ]
  },
  {
   "cell_type": "code",
   "execution_count": 27,
   "metadata": {
    "collapsed": false
   },
   "outputs": [
    {
     "name": "stdout",
     "output_type": "stream",
     "text": [
      "The annotations allow us to combine synoymous conditions, for example:\n",
      "     trackable_id  Count        Condition         New Name  Family    Group  \\\n",
      "144           517      7          Chron's  Crohn's disease  Immune  Enteric   \n",
      "159             2    858  Crohn's disease  Crohn's disease  Immune  Enteric   \n",
      "208           616      4   Crohns Disease  Crohn's disease  Immune  Enteric   \n",
      "209           125     20           Crohns  Crohn's disease  Immune  Enteric   \n",
      "\n",
      "    Pot. Problem Comments  \n",
      "144            X      IBD  \n",
      "159          NaN      IBD  \n",
      "208          NaN      IBD  \n",
      "209          NaN      IBD  \n",
      "\n",
      "names for Crohn's :\n",
      "[\"Chron's\" \"Crohn's disease\" 'Crohns Disease' 'Crohns']\n",
      "\n",
      "users with all trackables for crohns :\n",
      "886\n"
     ]
    }
   ],
   "source": [
    "print \"The annotations allow us to combine synoymous conditions, for example:\"\n",
    "print immune_df[immune_df['New Name'] == 'Crohn\\'s disease']\n",
    "crohns_names = immune_df[immune_df['New Name'] == 'Crohn\\'s disease']['Condition'].values\n",
    "print \"\"\n",
    "print \"names for Crohn's :\"\n",
    "print crohns_names\n",
    "print \"\"\n",
    "print \"users with all trackables for crohns :\"\n",
    "print len(df[df['trackable_name'].isin(crohns_names)])"
   ]
  },
  {
   "cell_type": "code",
   "execution_count": 87,
   "metadata": {
    "collapsed": false
   },
   "outputs": [
    {
     "name": "stdout",
     "output_type": "stream",
     "text": [
      "immunity related conditions suffered by people with crohns\n",
      "[('arthrtis', 0.2), ('Juvenile rheumatoid arthritis', 0.18181818181818182), ('Psoriasis', 0.14285714285714285), ('Arthritis', 0.12307692307692308), ('Rheumatoid arthritis', 0.08333333333333333), ('Multiple sclerosis', 0.07692307692307693), ('Celiac disease', 0.04878048780487805), ('Lupus', 0.046511627906976744)]\n",
      "\n",
      "all conditions suffered by people with crohns\n",
      "[('Infilmation', 1.0), ('synesthesia', 1.0), ('PCOS', 1.0), ('Premature ventricular contractions', 1.0), ('Bipolar High', 1.0), ('FODMaP sensitivity', 1.0), ('First degree hemorrhoids', 1.0), ('Esophageal hernia', 1.0), ('Osteitis Pubis', 1.0), ('Internal hemorrhoids', 1.0), ('Rectovaginal fistula', 1.0), ('Atypical chest pain', 1.0), ('CFS', 1.0), ('Body pain', 0.6666666666666666), ('Systemic mastocytosis', 0.5), ('Secondary hypertension', 0.5), ('Low oxygen saturation', 0.5), ('lymphocytic colitis', 0.5), ('Uveitis', 0.5), ('Urethra pains', 0.5), ('Bile Acid Malabsorption', 0.5), ('Snoring', 0.5), ('Breast cancer', 0.5), ('Sickle cell anemia', 0.5), ('Menstrual pain', 0.4), ('Pseudotumor cerebri', 0.4), ('upper body sweating', 0.3333333333333333), ('aspergers', 0.3333333333333333), ('Hidradenitis suppurativa', 0.3333333333333333), ('Fecal incontinence', 0.3333333333333333), ('chronic daily headache', 0.3333333333333333), ('Common cold', 0.3333333333333333), ('Abdominal pains', 0.3333333333333333), ('Phobias', 0.3333333333333333), ('delayed sleep phase disorder', 0.3333333333333333), ('Orthorexia', 0.3333333333333333), ('Anemia', 0.325), ('Panic', 0.3), ('Menopause', 0.25), ('Urinary Urgency', 0.25), ('weak', 0.25), ('Dehydration', 0.25), ('Hemorrhoids', 0.25), ('mood swings', 0.25), ('MCAS', 0.25), ('Sacroiliitis', 0.25), ('Sleep disorders', 0.2222222222222222), ('Mood disorders', 0.2), ('Urinary Frequency', 0.2), ('Spastic legs', 0.2), ('Histamine intolerance', 0.2), ('Angioedema', 0.2), ('arthrtis', 0.2), ('Low energy', 0.2), ('Abdominal pain', 0.18374558303886926), ('Juvenile rheumatoid arthritis', 0.18181818181818182), ('burning skin', 0.16666666666666666), ('Hay fever', 0.16666666666666666), ('Diarrhea', 0.15950920245398773), ('Inflammation', 0.15), ('Head Pain', 0.15), ('skin rashes', 0.14814814814814814), ('Psoriasis', 0.14285714285714285), ('vertigo', 0.14285714285714285), ('Osteoporosis', 0.14285714285714285), ('Tendinitis', 0.14285714285714285), ('Adult ADD', 0.14285714285714285), ('hypersomnia', 0.14285714285714285), ('Polycystic Ovaries', 0.14285714285714285), ('Work', 0.13333333333333333), ('Ankylosing spondylitis', 0.1282051282051282), ('GERD', 0.12698412698412698), ('Vulvodynia', 0.125), ('Toothache', 0.125), ('Itch', 0.125), ('Arthritis', 0.12307692307692308), ('fibromyalgia ', 0.12121212121212122), ('Cold', 0.12), ('Psoriatic arthritis', 0.12), ('Crying', 0.11940298507462686), ('Lactose intolerance', 0.1111111111111111), ('Reflux', 0.1111111111111111), ('Urinary incontinence', 0.1111111111111111), ('Chronic daily headaches', 0.10526315789473684), ('Pain', 0.10067114093959731), ('Ovarian cysts', 0.1), ('Hiatal hernia', 0.1), ('Costochondritis', 0.09523809523809523), ('Urinary Pain', 0.09523809523809523), ('Adult ADHD', 0.09523809523809523), ('Mast Cell Activation Syndrome', 0.09090909090909091), ('Hearing loss', 0.09090909090909091), ('Menstrual Cycle', 0.09090909090909091), ('Overactive bladder', 0.09090909090909091), ('Myalgic encephalomyelitis', 0.09090909090909091), ('Stiffness', 0.08771929824561403), ('Stomach Pain', 0.08393285371702638), ('Protoporphyria', 0.08333333333333333), ('Rheumatoid arthritis', 0.08333333333333333), ('Nausea', 0.08287292817679558), ('Rash', 0.08108108108108109), ('Constipation', 0.08040201005025126), ('Tiredness', 0.08), ('Multiple sclerosis', 0.07692307692307693), ('tired', 0.07328605200945626), ('stressed', 0.07308377896613191), ('Orthostatic hypotension (postural hypotension)', 0.07142857142857142), ('adrenal fatigue', 0.07142857142857142), ('ADHD', 0.07017543859649122), ('Chronic Migraines', 0.0684931506849315), ('Eczema', 0.06818181818181818), ('Hunger', 0.06666666666666667), ('Fatigue', 0.0653950953678474), ('Stress', 0.06521739130434782), ('Fever', 0.06382978723404255), ('Degenerative Disc Disease', 0.0625), ('Cramps', 0.06060606060606061), ('joint pain', 0.06060606060606061), ('Knee pain', 0.057971014492753624), ('Dizziness', 0.05726872246696035), ('Exercise Intolerance', 0.05555555555555555), ('Dry eyes', 0.05555555555555555), ('POTS', 0.05357142857142857), ('Back pain', 0.052980132450331126), ('Anxiety', 0.05263157894736842), ('C-PTSD', 0.05263157894736842), ('Obsessive-compulsive disorder', 0.05263157894736842), ('Sleep apnea', 0.05263157894736842), ('Acid Reflux', 0.05084745762711865), ('Dry skin', 0.05), ('sleepiness', 0.04918032786885246), ('Celiac disease', 0.04878048780487805), ('Migraine', 0.04878048780487805), ('Dry mouth', 0.04878048780487805), ('Generalized anxiety disorder', 0.047619047619047616), ('Lupus', 0.046511627906976744), ('Tension headache', 0.043478260869565216), ('IBS', 0.042735042735042736), ('Depression', 0.04204753199268738), ('Sore throat', 0.04081632653061224), ('Endometriosis', 0.04054054054054054), ('Ehlers-Danlos syndrome', 0.03954802259887006), ('Tachycardia', 0.038461538461538464), ('Muscle spasms', 0.03773584905660377), ('Osteoarthritis', 0.037037037037037035), ('Headache', 0.03682170542635659), ('Chronic fatigue syndrome', 0.03468208092485549), ('Leg pain', 0.034482758620689655), ('Allergies', 0.033707865168539325), ('Irritable bowel syndrome', 0.03305785123966942), ('Insomnia', 0.03167420814479638), ('Autism spectrum disorder', 0.03125), ('Bipolar disorder', 0.03125), ('Finger pain', 0.030303030303030304), ('Muscle pain', 0.030120481927710843), ('Chest pain', 0.03007518796992481), ('Chronic Pain', 0.029411764705882353), ('Hypothyroidism', 0.027777777777777776), ('PTSD', 0.027777777777777776), ('Tinnitus', 0.02564102564102564), ('Acne', 0.022222222222222223), ('Headaches', 0.02197802197802198), ('Wrist pain', 0.0196078431372549), ('Gastroparesis', 0.018867924528301886), ('Asthma', 0.01639344262295082), ('Fibromyalgia', 0.016172506738544475), ('Shoulder pain', 0.015267175572519083), ('Neck pain', 0.01485148514851485), ('Jaw pain', 0.012658227848101266), ('Ulcerative colitis', 0.011627906976744186), ('Idiopathic hypersomnia', 0.011111111111111112), (\"Hashimoto's disease\", 0.01020408163265306)]\n",
      "number of people with crohns suffering from immune conditions, divided by total number of people suffering from same conditions : 0.112912596715\n",
      "number of people with crohns suffering from all conditions, divided by total number of people suffering from same conditions : 0.208350809788\n"
     ]
    }
   ],
   "source": [
    "anno_df = pd.read_csv(\"conditions_list.csv\")\n",
    "immune_df = anno_df[anno_df['Family'] == 'Autoimmune']\n",
    "immune_conditions = set(immune_df['Condition'])\n",
    "all_conditions = set(anno_df['Condition'])\n",
    "\n",
    "def findCorrelationBetweenConditions(targetCondition, allOtherConditions):\n",
    "    \n",
    "    #create a df of all users with any trackable that represents the target condition\n",
    "    #not grouping by date this time, because I don't care if the conditions are concurrent, I want to know if people afflicted by the target condition have ever suffered from other conditions\n",
    "    condition_names = anno_df[anno_df['New Name'] == targetCondition]['Condition'].values\n",
    "    condition_df = df.groupby(['user_id']).filter(lambda x: len(set(x['trackable_name'].values) & set(condition_names)) > 0)\n",
    "\n",
    "    #the names of any trackable that represents all of the other conditions that we are comparing to\n",
    "    other_condition_names = df[df['trackable_name'].isin(allOtherConditions)]['trackable_name'].values\n",
    "    \n",
    "    #create a count of how many users have each condition\n",
    "    condition_df['condition_count'] = condition_df[condition_df['trackable_type'] == 'Condition'].groupby('user_id')['trackable_name'].transform('count')\n",
    "    \n",
    "    #add the counts to a dictionary and sort\n",
    "    condition_counts = {}\n",
    "    condition_counts_normalized = {}\n",
    "    for condition in other_condition_names:\n",
    "        c_df = condition_df[condition_df['trackable_name'] == condition]\n",
    "        if (len(c_df.groupby('user_id')) > 0) and (condition not in condition_names):\n",
    "            #we want to normalize the condition counts by how common the condition is, so that very common conditions like fatigue and anxiety get scaled down\n",
    "            all_affected_count = len(df[df['trackable_name'] == condition].groupby('user_id'))\n",
    "            condition_counts_normalized[condition] = float(len(c_df.groupby('user_id'))) / float(all_affected_count)\n",
    "            condition_counts[condition] = len(c_df.groupby('user_id'))\n",
    "\n",
    "    import operator \n",
    "    sorted_condition = sorted(condition_counts_normalized.items(), key=operator.itemgetter(1), reverse=True)\n",
    "    return condition_counts,condition_counts_normalized,sorted_condition\n",
    "    \n",
    "immune_total,immune_normalized,immune_sorted = findCorrelationBetweenConditions('Crohn\\'s disease', immune_conditions)\n",
    "all_total,all_normalized,all_sorted = findCorrelationBetweenConditions('Crohn\\'s disease', all_conditions)\n",
    "print \"immunity related conditions suffered by people with crohns\"\n",
    "print immune_sorted\n",
    "print \"\"\n",
    "print \"all conditions suffered by people with crohns\"\n",
    "print all_sorted\n",
    "print \"number of people with crohns suffering from immune conditions, divided by total number of people suffering from same conditions : \" + str(np.mean(immune_normalized.values()))"
   ]
  },
  {
   "cell_type": "markdown",
   "metadata": {},
   "source": [
    "There are more non-auto-immune conditions being suffered by Crohn's patients than autoimmune conditions.  But this makes sense as many of the conditions such as abdominal pains are associated with Crohn's.\n",
    "\n",
    "Trying to measure the correlation between individual conditions suffers from a huge number of uncertain decisions.  I need to look at it this from another angle.  If you have Crohn's what are the odds that you have another immunity related disease, compared with the general Flaredown population?  "
   ]
  },
  {
   "cell_type": "code",
   "execution_count": 100,
   "metadata": {
    "collapsed": false
   },
   "outputs": [
    {
     "name": "stdout",
     "output_type": "stream",
     "text": [
      "130\n",
      "1680\n",
      "27\n",
      "103\n",
      "314\n",
      "1366\n",
      "341\n",
      "1810\n"
     ]
    }
   ],
   "source": [
    "df = pd.read_csv(\"flaredown_trackable_data_080316.csv\")\n",
    "anno_df = pd.read_csv(\"conditions_list.csv\")\n",
    "\n",
    "immune_df = anno_df[(anno_df['Group'] == 'Autoimmune')]\n",
    "immune_names = set(immune_df['Condition'])\n",
    "crohns_names = anno_df[anno_df['New Name'] == 'Crohn\\'s disease']['Condition'].values\n",
    "\n",
    "#remove crohn's from the list of immune conditions\n",
    "for name in crohns_names:\n",
    "    if name in immune_names: immune_names.remove(name)\n",
    "\n",
    "#this time, we use the annotations to grab the crohns/noncrohns groups\n",
    "crohns_df = df.groupby('user_id').filter(lambda x: any(x['trackable_name'].isin(crohns_names)))\n",
    "noncrohns_df = df.groupby('user_id').filter(lambda x: not any(x['trackable_name'].isin(crohns_names)))\n",
    "\n",
    "#count of all users with crohns\n",
    "crohns_users_total = len(crohns_df.groupby('user_id'))\n",
    "\n",
    "#count of all users without crohns\n",
    "noncrohns_users_total = len(noncrohns_df.groupby('user_id'))\n",
    "\n",
    "#count of users with crohns as well as another immune condition\n",
    "crohns_users_immune_condition = len(crohns_df.groupby('user_id').filter(lambda x: any(x['trackable_name'].isin(immune_names))).groupby('user_id'))\n",
    "\n",
    "#count of users with crohns and no other immune conditions\n",
    "crohns_users_no_immune_condition = len(crohns_df.groupby('user_id').filter(lambda x: not any(x['trackable_name'].isin(immune_names))).groupby('user_id'))\n",
    "\n",
    "#count of users without crohns that have another immune condition\n",
    "noncrohns_users_immune_condition = len(noncrohns_df.groupby('user_id').filter(lambda x: any(x['trackable_name'].isin(immune_names))).groupby('user_id'))\n",
    "\n",
    "#count of users with no immune conditions\n",
    "noncrohns_users_no_immune_condition = len(noncrohns_df.groupby('user_id').filter(lambda x: not any(x['trackable_name'].isin(immune_names))).groupby('user_id'))\n",
    "\n",
    "#the total number of users reporting auto immune conditions\n",
    "total_autoimmune_users = crohns_users_immune_condition + noncrohns_users_immune_condition\n",
    "\n",
    "#the total number of users\n",
    "total_users = crohns_users_total + noncrohns_users_total\n",
    "\n",
    "#the total number of users without autoimmune conditions\n",
    "total_nonautoimmune_users = total_users - total_autoimmune_users\n",
    "\n",
    "print crohns_users_total\n",
    "print noncrohns_users_total\n",
    "print crohns_users_immune_condition\n",
    "print crohns_users_no_immune_condition\n",
    "print noncrohns_users_immune_condition\n",
    "print noncrohns_users_no_immune_condition\n",
    "print total_autoimmune_users\n",
    "print total_users\n"
   ]
  },
  {
   "cell_type": "markdown",
   "metadata": {},
   "source": [
    "Null Hypothesis: Reporting Crohn's disease on Flaredown does not increase the likelyhood that you will report other autoimmune conditions that are not related to Crohn's disease.\n",
    "\n",
    "|             | Auto-Immune   | No-Auto-Immune  | Total |\n",
    "| ----------- |:-------------:|:---------------:|:-----:|\n",
    "| Crohns      | 27            | 103             |130    |\n",
    "| Non-Crohnn  | 314           | 1366            | 1680  |\n",
    "| Total       | 341           | 1469            |1810   |"
   ]
  },
  {
   "cell_type": "code",
   "execution_count": 119,
   "metadata": {
    "collapsed": false
   },
   "outputs": [
    {
     "name": "stdout",
     "output_type": "stream",
     "text": [
      "Power_divergenceResult(statistic=array([ 0.31651346,  0.02449211]), pvalue=array([ 0.5737105 ,  0.87563926]))\n"
     ]
    }
   ],
   "source": [
    "from math import pow\n",
    "expected_crohns_autoimmune = float(total_autoimmune_users) * (float(crohns_users_total) / float(total_users))\n",
    "expected_noncrohns_autoimmune = float(total_autoimmune_users) * (float(noncrohns_users_total) / float(total_users))\n",
    "expected_crohns_nonautoimmune = float(total_nonautoimmune_users) * (float(crohns_users_total) / float(total_users))\n",
    "expected_noncrohns_nonautoimmune = float(total_nonautoimmune_users) * (float(noncrohns_users_total) / float(total_users))\n",
    "\n",
    "from scipy.stats import chisquare\n",
    "observations = np.array([[crohns_users_immune_condition, crohns_users_no_immune_condition], [noncrohns_users_immune_condition, noncrohns_users_no_immune_condition]]).T\n",
    "#obs = [crohns_users_immune_condition, crohns_users_no_immune_condition, noncrohns_users_immune_condition, noncrohns_users_no_immune_condition]\n",
    "\n",
    "expected = np.array([[expected_crohns_autoimmune,expected_crohns_nonautoimmune],[expected_noncrohns_autoimmune,expected_noncrohns_nonautoimmune]]).T\n",
    "#expected = [expected_crohns_autoimmune,expected_crohns_nonautoimmune,expected_noncrohns_autoimmune,expected_noncrohns_nonautoimmune]\n",
    "\n",
    "chi = chisquare(observations, f_exp=expected, axis=0)\n",
    "#sanity check\n",
    "#chi = float((crohns_users_immune_condition - expected_crohns_autoimmune)**2) / float(expected_crohns_autoimmune) + float((crohns_users_no_immune_condition - expected_crohns_nonautoimmune)**2) / float(expected_crohns_nonautoimmune)\n",
    "\n",
    "print chi"
   ]
  },
  {
   "cell_type": "markdown",
   "metadata": {},
   "source": [
    "I can't reject the null hypothesis.  It's not definitive either way.  Setting a reminder to try this again in one year's time."
   ]
  },
  {
   "cell_type": "code",
   "execution_count": null,
   "metadata": {
    "collapsed": true
   },
   "outputs": [],
   "source": []
  }
 ],
 "metadata": {
  "anaconda-cloud": {},
  "kernelspec": {
   "display_name": "Python [default]",
   "language": "python",
   "name": "python2"
  },
  "language_info": {
   "codemirror_mode": {
    "name": "ipython",
    "version": 2
   },
   "file_extension": ".py",
   "mimetype": "text/x-python",
   "name": "python",
   "nbconvert_exporter": "python",
   "pygments_lexer": "ipython2",
   "version": "2.7.12"
  }
 },
 "nbformat": 4,
 "nbformat_minor": 1
}
