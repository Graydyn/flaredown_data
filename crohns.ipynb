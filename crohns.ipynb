{
 "cells": [
  {
   "cell_type": "code",
   "execution_count": 67,
   "metadata": {
    "collapsed": false
   },
   "outputs": [
    {
     "name": "stdout",
     "output_type": "stream",
     "text": [
      "   user_id checkin_date  trackable_id trackable_type      trackable_name  \\\n",
      "0        3   2015-11-26          1069      Condition  Ulcerative colitis   \n",
      "1        6   2015-11-26          1069      Condition  Ulcerative colitis   \n",
      "2        8   2015-06-22           269      Condition     Crohn's disease   \n",
      "3        9   2015-05-26           421      Condition       Gastroparesis   \n",
      "4        9   2015-05-26           152        Symptom              Nausea   \n",
      "5        9   2015-05-26          9890      Treatment              Zofran   \n",
      "6        9   2015-05-26             1            Tag               tired   \n",
      "7        9   2015-05-26             2            Tag            stressed   \n",
      "8        9   2015-05-26             3            Tag               feels   \n",
      "9        9   2015-05-27           421      Condition       Gastroparesis   \n",
      "\n",
      "  trackable_value  \n",
      "0               0  \n",
      "1               0  \n",
      "2               3  \n",
      "3               2  \n",
      "4               1  \n",
      "5          8.0 mg  \n",
      "6             NaN  \n",
      "7             NaN  \n",
      "8             NaN  \n",
      "9               2  \n"
     ]
    }
   ],
   "source": [
    "%matplotlib inline\n",
    "import matplotlib.pyplot as plt\n",
    "import warnings\n",
    "warnings.filterwarnings('ignore')\n",
    "\n",
    "import numpy as np\n",
    "import pandas as pd\n",
    "import random\n",
    "\n",
    "df = pd.read_csv(\"flaredown_trackable_data_080316.csv\")\n",
    "df['checkin_date'] = pd.to_datetime(df['checkin_date'])\n",
    "\n",
    "print df.head(10)"
   ]
  },
  {
   "cell_type": "code",
   "execution_count": 68,
   "metadata": {
    "collapsed": false
   },
   "outputs": [],
   "source": [
    "crohns_df = df.groupby(['user_id', 'checkin_date']).filter(lambda x: ('Crohn\\'s disease' in x['trackable_name'].values) or ('Crohn\\'s' in x['trackable_name'].values))"
   ]
  },
  {
   "cell_type": "code",
   "execution_count": 69,
   "metadata": {
    "collapsed": false
   },
   "outputs": [
    {
     "name": "stdout",
     "output_type": "stream",
     "text": [
      "113 distinct users reporting crohns\n"
     ]
    }
   ],
   "source": [
    "print str(len(crohns_df.groupby('user_id'))) + \" distinct users reporting crohns\""
   ]
  },
  {
   "cell_type": "code",
   "execution_count": 70,
   "metadata": {
    "collapsed": false
   },
   "outputs": [
    {
     "name": "stdout",
     "output_type": "stream",
     "text": [
      "distinct treatments : 71\n",
      "\n",
      "number of users using each treatment\n",
      "[('Azathioprine', 12), ('Prednisone', 10), ('Vitamin d', 6), ('Humira', 5), ('Prednisolone', 4), ('Imuran', 4), ('Budesonide', 4), ('Allopurinol', 4), ('Folic acid', 3), ('Tramadol', 3), ('Entocort', 3), ('Prozac', 2), ('Questran', 2), ('Peppermint oil', 2), ('Coffee', 2), ('7-keto-dhea', 2), ('Lialda', 2), ('Dexamethasone', 2), ('Probiotic', 2), ('Colesevelam', 2), ('Vitamin C', 2), ('Bentyl', 2), ('Olive oil', 2), ('Calcium citrate', 2), ('Marijuana', 2), ('Methotrexate', 2), ('Ritalin', 1), ('Sunbathing', 1), ('Lansoprazole', 1), ('Mediterranean Diet', 1), ('Sertraline', 1), ('Biest', 1), ('Calcium Suplment', 1), ('Amitriptyline', 1), ('Lithium', 1), ('My Goodness Organics meals', 1), ('Solifenacin', 1), ('Flo-pred', 1), ('accutane', 1), ('6-MP', 1), ('Tylenol 3', 1), ('Feverfew', 1), ('Wellbutrin', 1), ('Carbomer eye drops', 1), ('Vitamin b12', 1), ('Rice protein Shake', 1), ('methotraxate', 1), ('Cerelle', 1), ('Mercaptopurine', 1), ('Cyclizine', 1), ('Fexofenadine', 1), ('thyroid support complex', 1), ('Aga', 1), ('Tacrolimus', 1), ('Modulen', 1), ('Propanolol', 1), ('Iron', 1), ('Venlafexine', 1), ('Placebo', 1), ('Buscopan', 1), ('Cetraben cream', 1), ('Sulfasalazin EN', 1), ('Tea', 1), ('Pentasa', 1), ('Propranolol', 1), ('Heating Pad', 1), ('Mesalazine', 1), ('MMJ', 1), ('Paracetamol', 1), ('Passionflower', 1), ('Plaquenil', 1)]\n"
     ]
    }
   ],
   "source": [
    "crohns_treatments = set(crohns_df[crohns_df['trackable_type'] == 'Treatment']['trackable_name'])\n",
    "crohns_df['treatment_count'] = crohns_df[crohns_df['trackable_type'] == 'Treatment'].groupby('user_id')['trackable_name'].transform('count')\n",
    "print \"distinct treatments : \" + str(len(crohns_treatments))\n",
    "treatment_counts = {}\n",
    "for treatment in crohns_treatments:\n",
    "    treat_df = crohns_df[crohns_df['trackable_name'] == treatment]\n",
    "    treatment_counts[treatment] = len(treat_df.groupby('user_id'))\n",
    "print \"\"\n",
    "print \"number of users using each treatment\"\n",
    "import operator \n",
    "sorted_treatments = sorted(treatment_counts.items(), key=operator.itemgetter(1), reverse=True)\n",
    "print sorted_treatments"
   ]
  },
  {
   "cell_type": "markdown",
   "metadata": {},
   "source": [
    "Somebody is self-reporting \"placebo\"? "
   ]
  },
  {
   "cell_type": "code",
   "execution_count": 59,
   "metadata": {
    "collapsed": false
   },
   "outputs": [
    {
     "name": "stdout",
     "output_type": "stream",
     "text": [
      "distinct tags : 377\n",
      "\n",
      "number of users using each tag\n",
      "[('tired', 43), ('stressed', 27), ('good sleep', 18), ('alcohol', 11), ('Migraine', 10), ('had sex', 7), ('ate breakfast', 7), ('Went to work', 7), ('walked', 7), ('bad sleep', 6), ('happy', 6), ('relaxed', 6), ('Superlong nap', 5), ('active', 4), ('hiking', 4), ('period', 4), ('gluten', 4), ('dairy', 3), ('exercise', 3), ('busy', 3), ('worried', 3), ('Weight loss', 3), ('worked', 3), ('Cold', 3), ('cleaning', 3), ('Anxious', 3), ('no work', 3), ('Broke VLCD', 2), ('packing', 2), ('slept in', 2), ('chocolate', 2), ('doctor appointment', 2), ('work', 2), ('restless sleep', 2), ('slimfast', 2), ('Late lunch', 2), ('painful', 2), ('anaphylactic shock', 2), ('bronchitis', 2), ('pain', 2), ('ugh', 2), ('Angry breakup', 2), ('stayed home', 2), ('exam', 2), ('blood test', 2), ('Tired', 2), ('napped', 2), ('coffee', 2), ('carrot sticks', 2), ('VLCD', 2), ('poor sleep', 2), ('have cold', 2), ('bad pain day', 2), ('curry', 2), ('very tired', 2), ('sick', 2), ('test', 2), ('weekend', 2), ('worn out', 1), ('colonoscopy', 1), ('meditation', 1), ('Start of period', 1), ('fever dreams', 1), ('jogged', 1), ('patirnce', 1), ('10K steps', 1), ('Dinner with violet', 1), ('Shake wake up', 1), ('nausea', 1), ('grilled cheese', 1), ('stiff', 1), ('Physical therapy', 1), ('Tried something new', 1), ('anxious', 1), ('warm day', 1), ('masturbated', 1), ('cookies', 1), ('bed day', 1), ('lack of sleep', 1), ('deep massage', 1), ('home renovation', 1), ('stressful', 1), ('backfromretreat', 1), ('Ate ok', 1), ('melancholy', 1), ('Slept in amazing bed', 1), ('sinua infection', 1), ('grumpy ', 1), ('obsessing', 1), ('Reduced Medication', 1), ('hip pain', 1), ('great', 1), ('Cried', 1), ('stretching', 1), ('drank wine', 1), ('went to a cookout ', 1), ('canker sore', 1), ('Onions', 1), ('massage', 1), ('Socialized', 1), ('patience', 1), ('Day after entyvio', 1), ('sugar', 1), ('Colonoscopy recovery', 1), ('angry', 1), ('emdofedge', 1), ('slept late', 1), ('sore back', 1), ('grumpy no reason', 1), ('food reaction', 1), ('sore foot', 1), ('salaf', 1), ('salad', 1), ('over ate', 1), ('lots of soda', 1), ('eyes hurt', 1), ('productive', 1), ('up since 3am', 1), ('drained', 1), ('fluish feeling', 1), ('Tiring', 1), ('weed', 1), ('beach', 1), ('fever', 1), ('lots of dust', 1), ('Colonoscopy prep', 1), ('ate lunch', 1), ('tomato', 1), ('Busy Day', 1), ('good gig', 1), ('Ultrasound scan', 1), (\"didn't eat enough\", 1), ('It was a bad idea', 1), ('cold', 1), ('floor polish fumes', 1), ('travelling', 1), ('soccer', 1), ('hurting', 1), ('niice', 1), ('URI', 1), ('BPPV day', 1), ('played bball', 1), ('Hip and leg spasms', 1), ('had pelvic PT', 1), ('very sick', 1), ('lifted weights', 1), ('shaking', 1), ('onlyuthoughtthatuwerefriends', 1), ('road trip', 1), ('burdened', 1), ('took a bath ', 1), ('ice cream', 1), ('driving', 1), ('Sore back', 1), ('Went to concert', 1), ('med checkin broken', 1), ('Sunburn', 1), ('windsurfing', 1), ('brain weird stuff', 1), ('Work', 1), ('forgive', 1), ('clear headed', 1), ('read a book', 1), ('mmj', 1), ('cough', 1), ('infusion day', 1), ('Very low appetite', 1), ('coming down with cold', 1), ('sun exposure', 1), ('lots of bending over', 1), ('Fried fish', 1), ('Busy work day', 1), ('body feeling good', 1), ('pms', 1), ('ate pizza', 1), ('liquid diet', 1), ('relieved', 1), ('hotel', 1), ('Very gassy', 1), ('mostly ok', 1), ('burlesque', 1), ('meh day', 1), ('one glass of wine', 1), ('wasted', 1), ('bike ride', 1), ('nightshades', 1), ('scrapbooking', 1), ('Exhausted', 1), ('walked dog', 1), ('french fries', 1), ('moveon', 1), ('atetonkatsu', 1), ('overexerted', 1), ('one beer', 1), ('forgot to enter', 1), ('Suuuuper urgent bathroom trip after 6PM', 1), ('day off', 1), ('sad', 1), ('cleaned', 1), ('sas', 1), ('couch potato', 1), ('Feeling good overall lately', 1), ('benchpress', 1), ('IViG', 1), ('ritalin comedown', 1), ('early morning', 1), ('eggs', 1), ('treated myself ', 1), ('No crying', 1), ('exercised', 1), ('London trip', 1), ('went to bed too late', 1), ('train into downtown', 1), ('Fried food', 1), ('Lots of driving', 1), ('eye fatigue', 1), ('Infusion ', 1), ('doctors', 1), ('scattered', 1), ('caffeine', 1), ('slimfast only', 1), ('fresh strawberries', 1), ('saw a movie', 1), ('skipped strattera', 1), ('unhappy', 1), ('Excited about weekend', 1), ('remodelling work', 1), ('Rested', 1), ('woken by alarm', 1), ('drove around ', 1), ('ate three meals', 1), ('feels', 1), ('wedding', 1), ('late night', 1), ('restart', 1), ('sore lower back', 1), ('oats', 1), ('bam', 1), ('playedbbal', 1), ('Had lots of sex last night', 1), ('dropping things', 1), ('toomuchdinner', 1), ('jojos', 1), ('Bad day', 1), ('Rain and thunder', 1), ('Shopping', 1), ('greatday', 1), ('weak', 1), ('pullups', 1), ('Lower baxk', 1), ('Hard work day', 1), ('Surgery recovery', 1), ('listen to music ', 1), ('emotional', 1), ('skipped dinner', 1), ('quiet', 1), ('allergic reaction', 1), ('Computer', 1), ('hungover cocktails last night - the Everleigh', 1), ('moved furniture', 1), ('afternoon crash', 1), ('Lots of walking', 1), ('physical therapy', 1), ('Had a few drinks at night', 1), ('asdf', 1), ('Drained', 1), ('bad cfs', 1), ('beer', 1), ('no coffee', 1), ('bbq', 1), ('rest day', 1), ('morning fatigue', 1), ('Summer day activities', 1), ('sunshine', 1), ('Better energy', 1), ('wildnweird', 1), ('sore elbows', 1), ('left work', 1), ('Painful morning', 1), ('knee pain', 1), ('studied', 1), ('left the house', 1), ('slept not alone', 1), ('trouble getting up', 1), ('Puppy', 1), ('selfimprovement', 1), ('left leg pain', 1), ('hard to sleep', 1), ('Latte', 1), ('Had to lie down at work', 1), ('went out', 1), ('departmentdinner', 1), ('went shopping', 1), ('knitting', 1), ('changed fentanyl patch', 1), ('Fighting with Nate and Elizabeth', 1), ('scope prep', 1), ('no breakfast', 1), ('Hungry', 1), ('fasting', 1), ('Crohns blockage', 1), ('rambled', 1), ('sleepy', 1), ('Hip killing', 1), ('greatdday', 1), ('It was raining', 1), ('right side migraine', 1), ('Low stress ', 1), ('moody', 1), ('cuddled kitten', 1), ('slight joint pain', 1), (\"didn't sleep\", 1), ('Wine', 1), ('Sat outside in the sun', 1), ('very ill', 1), ('Lay in bed in afternoon', 1), ('overslept', 1), (\"i don't even know\", 1), ('Ate fish & chips', 1), ('collapsible', 1), ('scared', 1), ('late sleep', 1), ('legs sore', 1), ('Walked quite a fair bit', 1), ('Period coming', 1), ('not in a rush', 1), ('worked out', 1), ('Flare', 1), ('Organic mostly', 1), ('pasta', 1), ('falaffel', 1), ('group meeting', 1), ('Achy arms', 1), ('Msat', 1), ('Been at the island', 1), ('oatmeal', 1), ('fuck this disease', 1), ('Relaxed', 1), ('blessed', 1), ('11 days sober', 1), ('chewing gum', 1), ('Trigger food', 1), ('PMS', 1), ('Body ache', 1), ('friends', 1), ('very active evening', 1), ('Went for food', 1), ('bored', 1), ('job interview', 1), ('Walked', 1), ('bad eating', 1), ('Ate a lot', 1), ('excitement', 1), ('blood work', 1), ('woke up early', 1), ('shopping', 1), ('lots of stairs', 1), ('skipped ADD meds', 1), ('Tv', 1), ('very bad sleep', 1), ('mostly happy', 1), ('Very long day', 1), ('one IPA', 1), ('springishere', 1), ('coconut', 1), ('Good day', 1), ('fizzy drink', 1), ('nap', 1), ('nice', 1), ('monday', 1), ('rested', 1), ('finals', 1), ('exhausting', 1), ('thai food', 1), ('alright', 1), ('just blah', 1), ('stayed up late', 1)]\n",
      "38.0530973451 percent of users with Crohn's report being tired\n",
      "23.8938053097 percent of users with Crohn's report being stressed\n"
     ]
    }
   ],
   "source": [
    "crohns_treatments = set(crohns_df[crohns_df['trackable_type'] == 'Tag']['trackable_name'])\n",
    "crohns_df['treatment_count'] = crohns_df[crohns_df['trackable_type'] == 'Tag'].groupby('user_id')['trackable_name'].transform('count')\n",
    "print \"distinct tags : \" + str(len(crohns_treatments))\n",
    "treatment_counts = {}\n",
    "for treatment in crohns_treatments:\n",
    "    treat_df = crohns_df[crohns_df['trackable_name'] == treatment]\n",
    "    treatment_counts[treatment] = len(treat_df.groupby('user_id'))\n",
    "print \"\"\n",
    "print \"number of users using each tag\"\n",
    "import operator \n",
    "sorted_treatments = sorted(treatment_counts.items(), key=operator.itemgetter(1), reverse=True)\n",
    "print sorted_treatments\n",
    "\n",
    "print str(treatment_counts['tired'] / 113.0 * 100.0) + \" percent of users with Crohn's report being tired\"\n",
    "print str(treatment_counts['stressed'] / 113.0 * 100.0) + \" percent of users with Crohn's report being stressed\""
   ]
  },
  {
   "cell_type": "code",
   "execution_count": 58,
   "metadata": {
    "collapsed": false
   },
   "outputs": [
    {
     "name": "stdout",
     "output_type": "stream",
     "text": [
      "distinct concurrent conditions : 85\n",
      "\n",
      "number of users reporting condition\n",
      "[(\"Crohn's disease\", 113), ('Abdominal pain', 42), ('Fatigue', 37), ('Anxiety', 22), ('Depression', 16), ('Anemia', 11), ('Migraine', 10), ('Back pain', 10), ('GERD', 8), ('Chronic fatigue syndrome', 6), ('Fibromyalgia', 5), ('Ankylosing spondylitis', 5), ('Insomnia', 5), ('skin rashes', 4), ('Psoriasis', 4), ('Rheumatoid arthritis', 4), ('Ehlers-Danlos syndrome', 4), ('Arthritis', 3), ('Panic', 3), ('Generalized anxiety disorder', 3), ('Endometriosis', 3), ('Allergies', 2), ('Systemic mastocytosis', 2), ('joint pain', 2), ('Urinary Pain', 2), ('fibromyalgia ', 2), ('ADHD', 2), ('adrenal fatigue', 2), ('Adult ADHD', 2), ('Common cold', 2), ('Chronic Migraines', 2), ('Sleep disorders', 2), ('Sacroiliitis', 2), ('POTS', 2), ('Eczema', 2), ('Asthma', 1), ('Orthostatic hypotension (postural hypotension)', 1), ('Irritable bowel syndrome', 1), ('Acne', 1), ('Mast Cell Activation Syndrome', 1), ('Bile Acid Malabsorption', 1), ('Ulcerative colitis', 1), ('chronic daily headache', 1), ('Obsessive-compulsive disorder', 1), ('Phobias', 1), ('Hay fever', 1), ('upper body sweating', 1), ('Chronic Pain', 1), ('IBS', 1), ('Rectovaginal fistula', 1), ('Osteoarthritis', 1), ('arthrtis', 1), ('Menopause', 1), ('Urinary Frequency', 1), ('Tendinitis', 1), ('Spastic legs', 1), ('Bipolar disorder', 1), ('Urinary Urgency', 1), ('Premature ventricular contractions', 1), ('Lupus', 1), ('Sickle cell anemia', 1), ('delayed sleep phase disorder', 1), ('Reflux', 1), ('Degenerative Disc Disease', 1), ('Psoriatic arthritis', 1), ('MCAS', 1), ('Juvenile rheumatoid arthritis', 1), ('C-PTSD', 1), ('Urinary incontinence', 1), ('Snoring', 1), ('First degree hemorrhoids', 1), ('Adult ADD', 1), ('hypersomnia', 1), ('Esophageal hernia', 1), ('Menstrual pain', 1), ('PTSD', 1), ('Celiac disease', 1), ('Myalgic encephalomyelitis', 1), ('Atypical chest pain', 1), ('Osteitis Pubis', 1), ('Chronic daily headaches', 1), ('synesthesia', 1), ('vertigo', 1), ('CFS', 1), ('aspergers', 1)]\n",
      "\n",
      "37.1681415929 percent of users with Crohn's also report Abdominal Pain\n",
      "32.7433628319 percent of users with Crohn's also report Fatigue\n",
      "19.4690265487 percent of users with Crohn's also report Anxiety\n",
      "14.1592920354 percent of users with Crohn's also report Depression\n",
      "9.73451327434 percent of users with Crohn's also report Anemia\n"
     ]
    }
   ],
   "source": [
    "crohns_treatments = set(crohns_df[crohns_df['trackable_type'] == 'Condition']['trackable_name'])\n",
    "crohns_df['treatment_count'] = crohns_df[crohns_df['trackable_type'] == 'Condition'].groupby('user_id')['trackable_name'].transform('count')\n",
    "print \"distinct concurrent conditions : \" + str(len(crohns_treatments))\n",
    "treatment_counts = {}\n",
    "for treatment in crohns_treatments:\n",
    "    treat_df = crohns_df[crohns_df['trackable_name'] == treatment]\n",
    "    treatment_counts[treatment] = len(treat_df.groupby('user_id'))\n",
    "print \"\"\n",
    "print \"number of users reporting condition\"\n",
    "import operator \n",
    "sorted_treatments = sorted(treatment_counts.items(), key=operator.itemgetter(1), reverse=True)\n",
    "print sorted_treatments\n",
    "print \"\"\n",
    "print str(treatment_counts['Abdominal pain'] / 113.0 * 100.0) + \" percent of users with Crohn's also report Abdominal Pain\"\n",
    "print str(treatment_counts['Fatigue'] / 113.0 * 100.0) + \" percent of users with Crohn's also report Fatigue\"\n",
    "print str(treatment_counts['Anxiety'] / 113.0 * 100.0) + \" percent of users with Crohn's also report Anxiety\"\n",
    "print str(treatment_counts['Depression'] / 113.0 * 100.0) + \" percent of users with Crohn's also report Depression\"\n",
    "print str(treatment_counts['Anemia'] / 113.0 * 100.0) + \" percent of users with Crohn's also report Anemia\""
   ]
  },
  {
   "cell_type": "code",
   "execution_count": 52,
   "metadata": {
    "collapsed": false
   },
   "outputs": [
    {
     "data": {
      "text/plain": [
       "[<matplotlib.lines.Line2D at 0x114021990>]"
      ]
     },
     "execution_count": 52,
     "metadata": {},
     "output_type": "execute_result"
    },
    {
     "data": {
      "image/png": "[encoded data removed]",
      "text/plain": [
       "<matplotlib.figure.Figure at 0x1069b7210>"
      ]
     },
     "metadata": {},
     "output_type": "display_data"
    }
   ],
   "source": [
    "import matplotlib.pyplot as plt\n",
    "dates = list(set(crohns_df['checkin_date']))\n",
    "dates.sort()\n",
    "mean_ratings = []\n",
    "for date in dates:\n",
    "    date_df = crohns_df[crohns_df['checkin_date'] == date]\n",
    "    ratings = pd.to_numeric(date_df[date_df['trackable_name'] == 'Crohn\\'s disease']['trackable_value'])\n",
    "    mean_ratings.append(ratings.values.mean())\n",
    "plt.plot(dates,mean_ratings)"
   ]
  },
  {
   "cell_type": "markdown",
   "metadata": {},
   "source": [
    "I wouldn't say that this graph is very informative for the time being.  Would be interesting to take a look again after this winter though, as it looks more consistently high in that September to January range.  Could just be a different person reporting during that time though."
   ]
  },
  {
   "cell_type": "code",
   "execution_count": 82,
   "metadata": {
    "collapsed": false
   },
   "outputs": [
    {
     "name": "stdout",
     "output_type": "stream",
     "text": [
      "     user_id   age     sex country        condition        treatment  \\\n",
      "319    459.0   NaN  female      US  Crohn's disease           Bentyl   \n",
      "320    459.0   NaN  female      US  Crohn's disease  Calcium citrate   \n",
      "321    459.0   NaN  female      US  Crohn's disease        Vitamin d   \n",
      "342    461.0  38.0    male      US  Crohn's disease           Bentyl   \n",
      "343    461.0  38.0    male      US  Crohn's disease  Calcium citrate   \n",
      "\n",
      "     before_value  after_value  effectiveness  \n",
      "319      1.875000     1.000000       0.875000  \n",
      "320      1.736842     1.000000       0.736842  \n",
      "321      1.736842     1.000000       0.736842  \n",
      "342      1.823529     1.454545       0.368984  \n",
      "343      1.700000     1.625000       0.075000  \n"
     ]
    }
   ],
   "source": [
    "df = pd.read_csv(\"effectiveness_treatments.csv\")\n",
    "crohns_df = df[(df['condition'] == 'Crohn\\'s disease') | (df['condition'] == 'Crohn\\'s') ]\n",
    "crohns_df = crohns_df[np.isfinite(df['effectiveness'])]\n",
    "print crohns_df.head()"
   ]
  },
  {
   "cell_type": "code",
   "execution_count": 83,
   "metadata": {
    "collapsed": false
   },
   "outputs": [
    {
     "name": "stdout",
     "output_type": "stream",
     "text": [
      "the treatments that our users have had the most success with : \n",
      "[('Folic acid', 1.26729559748), ('Methotrexate', 1.1818181818200002), ('Bentyl', 0.62199197860950006), ('Colesevelam', 0.45850815850800003), ('Vitamin d', 0.40592105263149997), ('Calcium citrate', 0.40592105263149997), ('Mediterranean Diet', 0.292929292929), ('Placebo', 0.19624060150400002), ('Fexofenadine', 0.18199233716499999), ('Carbomer eye drops', 0.16554054054099998), ('Cetraben cream', 0.16554054054099998), ('thyroid support complex', 0.12121212121200001), ('methotraxate', 0.055555555555600003), ('Questran', 0.0029761904764999819), ('Modulen', -0.084232002331699987), ('Aga', -0.22600619194999999), ('Tacrolimus', -0.22600619194999999), ('Biest', -0.26666666666700001), ('My Goodness Organics meals', -0.26666666666700001), ('Vitamin C', -0.28042328042300002), ('Ritalin', -0.35887988209299998), ('Solifenacin', -0.35887988209299998), ('Feverfew', -0.35887988209299998), ('Probiotic', -0.35887988209299998), ('Passionflower', -0.35887988209299998), ('Vitamin b12', -0.35887988209299998), ('Cerelle', -0.35887988209299998), ('Cyclizine', -0.39649122806999998), ('MMJ', -0.40000000000000002), ('Calcium Suplment', -0.54545454545500005), ('alverine', -0.64460784313699993), ('Flo-pred', -0.65714285714300003), ('Peppermint oil', -0.70370370370399993)]\n"
     ]
    }
   ],
   "source": [
    "treatments = set(crohns_df['treatment'])\n",
    "mean_effects = {}\n",
    "for treatment in treatments:\n",
    "    treat_df = crohns_df[crohns_df['treatment'] == treatment]\n",
    "    mean_effects[treatment] = treat_df['effectiveness'].values.mean()\n",
    "\n",
    "print \"the treatments that our users have had the most success with : \"\n",
    "sorted_treatments = sorted(mean_effects.items(), key=operator.itemgetter(1), reverse=True)\n",
    "print sorted_treatments"
   ]
  },
  {
   "cell_type": "markdown",
   "metadata": {},
   "source": [
    "Positive numbers above mean the user reported less severe symptoms while on the treatment.  Negative numbers mean their symptoms were worse.  But keep in mind that users might be trying more supplements and such during flare-ups which could give an overly negative view of some of these treatments.\n",
    "\n",
    "Also sample sizes for some of these associations are often very small."
   ]
  },
  {
   "cell_type": "code",
   "execution_count": null,
   "metadata": {
    "collapsed": true
   },
   "outputs": [],
   "source": []
  }
 ],
 "metadata": {
  "anaconda-cloud": {},
  "kernelspec": {
   "display_name": "Python [default]",
   "language": "python",
   "name": "python2"
  },
  "language_info": {
   "codemirror_mode": {
    "name": "ipython",
    "version": 2
   },
   "file_extension": ".py",
   "mimetype": "text/x-python",
   "name": "python",
   "nbconvert_exporter": "python",
   "pygments_lexer": "ipython2",
   "version": "2.7.12"
  }
 },
 "nbformat": 4,
 "nbformat_minor": 1
}
